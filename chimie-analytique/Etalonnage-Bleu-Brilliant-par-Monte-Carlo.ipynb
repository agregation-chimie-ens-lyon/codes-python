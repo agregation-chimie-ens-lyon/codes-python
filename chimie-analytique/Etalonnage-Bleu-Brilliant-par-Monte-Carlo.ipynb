{
 "cells": [
  {
   "cell_type": "markdown",
   "id": "85556469",
   "metadata": {},
   "source": [
    "Version modifiable en ligne : \n",
    "* https://colab.research.google.com/github/agregation-chimie-ens-lyon/codes-python/blob/main/chimie-analytique/Etalonnage-Bleu-Brilliant-par-Monte-Carlo.ipynb"
   ]
  },
  {
   "cell_type": "code",
   "execution_count": 1,
   "id": "f576ce3a-5840-442d-82e7-56527b217a53",
   "metadata": {},
   "outputs": [
    {
     "name": "stdout",
     "output_type": "stream",
     "text": [
      "Tube n° 1\n",
      "Calcul de C : 0.2672999999999999\n",
      "Moyenne des C : 0.2673171338319732\n",
      "u(C) : 0.0027598046278257474\n",
      "Tube n° 2\n",
      "Calcul de C : 0.2376\n",
      "Moyenne des C : 0.23760366775008523\n",
      "u(C) : 0.0025530100949919103\n",
      "Tube n° 3\n",
      "Calcul de C : 0.1485\n",
      "Moyenne des C : 0.14850358763829904\n",
      "u(C) : 0.00196686546183371\n",
      "Tube n° 4\n",
      "Calcul de C : 0.0891\n",
      "Moyenne des C : 0.08910787045056613\n",
      "u(C) : 0.0016778944327977198\n",
      "Tube n° 5\n",
      "Calcul de C : 0.0594\n",
      "Moyenne des C : 0.05941110410814335\n",
      "u(C) : 0.001572271861904932\n",
      "Tube n° 6\n",
      "Calcul de C : 0.0297\n",
      "Moyenne des C : 0.029703788158650594\n",
      "u(C) : 0.0015086019249192708\n",
      "Tube n° 7\n",
      "Calcul de C : 0.02376\n",
      "Moyenne des C : 0.023754839868076916\n",
      "u(C) : 0.0014987257526332324\n",
      "Tube n° 8\n",
      "Calcul de C : 0.01485\n",
      "Moyenne des C : 0.014850855837289243\n",
      "u(C) : 0.0014897999135664109\n",
      "Tube n° 9\n",
      "Calcul de C : 0.008909999999999998\n",
      "Moyenne des C : 0.008916636913972183\n",
      "u(C) : 0.0014914495684663117\n"
     ]
    }
   ],
   "source": [
    "# modifié de https://eduscol.education.fr/document/16051/download\n",
    "##MONTE CARLO POUR TROUVER L'INCERTITUDE SUR LES CONCENTRATIONS DES SOLUTIONS ETALONS\n",
    "\n",
    "import numpy as np\n",
    "\n",
    "# Renvoie une valeur aléatoire de la variable L[0] d'incertitude-type L[1]\n",
    "def Alea(L):\n",
    "    tirage = np.random.normal()  # Tirage entre -infini et +infini (loi normale)\n",
    "    return L[0] + L[1] * tirage\n",
    "\n",
    "\n",
    "##########################################################################\n",
    "# Entrées\n",
    "m = [297.0e-3, 1.0e-3]\n",
    "Vf1 = [1.0000, 0.0008]\n",
    "Dilutions = [9e-3, 8e-3, 5.00e-3, 3e-3, 2e-3, 1e-3, 0.8e-3, 0.5e-3, 0.3e-3]\n",
    "Fioles = [10.00e-3, 0.08e-3]\n",
    "DeltaBurette = 0.05e-3\n",
    "\n",
    "##########################################################################\n",
    "# Préparation de la liste des concentrations des solutions diluées\n",
    "Cm = m[0] / (Vf1[0])\n",
    "\n",
    "Concentration = []\n",
    "for k in range(len(Dilutions)):\n",
    "    Concentration.append(Cm * Dilutions[k] / Fioles[0])\n",
    "##########################################################################\n",
    "# Méthode de Monte Carlo pour trouver l'incertitude sur C\n",
    "# sans composition des incertitudes\n",
    "\n",
    "for k in range(len(Dilutions)):\n",
    "    Dilu = [Dilutions[k], DeltaBurette]\n",
    "\n",
    "    LC = []\n",
    "    iteration = 100000\n",
    "\n",
    "    for i in range(iteration):\n",
    "        AleaCm = Alea(m) / (Alea(Vf1))\n",
    "        AleaC = (AleaCm * Alea(Dilu)) / Alea(Fioles)\n",
    "        LC.append(AleaC)\n",
    "\n",
    "    MoyC = sum(LC) / iteration\n",
    "    uC = (1 / (iteration - 1) * sum((np.array(LC) - MoyC) ** 2.0)) ** 0.5\n",
    "\n",
    "    print(\"Tube n°\", k + 1)\n",
    "    print(\"Calcul de C :\", Concentration[k])\n",
    "    print(\"Moyenne des C :\", MoyC)\n",
    "    print(\"u(C) :\", uC)\n",
    "##########################################################################"
   ]
  },
  {
   "cell_type": "code",
   "execution_count": 2,
   "id": "9747e435-206f-4412-b06b-851c5ea3d80f",
   "metadata": {},
   "outputs": [
    {
     "name": "stdout",
     "output_type": "stream",
     "text": [
      "Pente : 139.71740683099048\n",
      "u(Pente) : 14.592640571936307\n"
     ]
    },
    {
     "data": {
      "image/png": "[encoded data removed]",
      "text/plain": [
       "<Figure size 432x288 with 1 Axes>"
      ]
     },
     "metadata": {
      "needs_background": "light"
     },
     "output_type": "display_data"
    },
    {
     "name": "stdout",
     "output_type": "stream",
     "text": [
      "Ordonnee à l origine : -0.00043125227618767513\n",
      "u(Ordonnée à l origine) 0.004983825838416165\n"
     ]
    },
    {
     "data": {
      "image/png": "[encoded data removed]",
      "text/plain": [
       "<Figure size 432x288 with 1 Axes>"
      ]
     },
     "metadata": {
      "needs_background": "light"
     },
     "output_type": "display_data"
    }
   ],
   "source": [
    "# modifié de https://eduscol.education.fr/document/16051/download\n",
    "##MONTE CARLO POUR TROUVER L'INCERTITUDE SUR LA PENTE ET L'ORDONNEE A L'ORIGINE DE LE DROITE D'ETALONNAGE\n",
    "\n",
    "import numpy as np\n",
    "from matplotlib import pyplot\n",
    "\n",
    "# Procedure Regression Linéaire ; tableaux np X et Y\n",
    "def RegLin(X, Y):\n",
    "    N = len(X)\n",
    "    moyX = sum(X) / N\n",
    "    moyY = sum(Y) / N\n",
    "    pente = sum((X - moyX) * (Y - moyY)) / (sum((X - moyX) ** 2))\n",
    "    ordor = moyY - pente * moyX\n",
    "    return [pente, ordor]\n",
    "\n",
    "\n",
    "##########################################################################\n",
    "# Renvoie une valeur aléatoire de la variable L[0] d'incertitude-type L[1]\n",
    "def Alea(L):\n",
    "    tirage = np.random.normal()  # Tirage entre -infini et +infini (loi normale)\n",
    "    return L[0] + L[1] * tirage\n",
    "\n",
    "\n",
    "##########################################################################\n",
    "# Entrées (groupe 1)\n",
    "m = [10.0e-3, 1.0e-3]\n",
    "Vf1 = [1.0000, 0.0008]\n",
    "Dilutions = [9e-3, 8e-3, 5.00e-3, 3e-3, 2e-3, 1e-3, 0.8e-3, 0.5e-3, 0.3e-3]\n",
    "Fioles = [10.00e-3, 0.08e-3]\n",
    "DeltaBurette = 0.05e-3\n",
    "Absorbance = [1.25, 1.10, 0.69, 0.42, 0.27, 0.14, 0.11, 0.07, 0.04]\n",
    "ErelSpectro = 0.02\n",
    "##########################################################################\n",
    "# Préparation des listes avec incertitudes\n",
    "Dilu = []\n",
    "for k in range(len(Dilutions)):\n",
    "    Dilu.append([Dilutions[k], DeltaBurette])\n",
    "A = []\n",
    "for k in range(len(Dilutions)):\n",
    "    A.append([Absorbance[k], Absorbance[k] * ErelSpectro])\n",
    "##########################################################################\n",
    "14  # Méthode de Monte Carlo pour trouver la pente, l'ordonnée à l'origine et\n",
    "# les incertitudes-type\n",
    "LPente, LOrdOr = [], []\n",
    "Iteration = 100000\n",
    "\n",
    "for j in range(Iteration):\n",
    "    AleaCm = Alea(m) / Alea(Vf1)\n",
    "    AleaC = []\n",
    "    AleaA = []\n",
    "    for k in range(len(Dilutions)):\n",
    "        AleaC.append((AleaCm * Alea(Dilu[k])) / Alea(Fioles))\n",
    "        AleaA.append(Alea(A[k]))\n",
    "\n",
    "    Pente = RegLin(np.array(AleaC), np.array(AleaA))[0]\n",
    "    OrdOr = RegLin(np.array(AleaC), np.array(AleaA))[1]\n",
    "    LPente.append(Pente)\n",
    "    LOrdOr.append(OrdOr)\n",
    "\n",
    "MoyPente = sum(LPente) / Iteration\n",
    "MoyOrdOr = sum(LOrdOr) / Iteration\n",
    "uPente = (1 / (Iteration - 1) * sum((np.array(LPente) - MoyPente) ** 2.0)) ** 0.5\n",
    "uOrdOr = (1 / (Iteration - 1) * sum((np.array(LOrdOr) - MoyOrdOr) ** 2.0)) ** 0.5\n",
    "\n",
    "print(\"Pente :\", MoyPente)\n",
    "print(\"u(Pente) :\", uPente)\n",
    "pyplot.hist(LPente, range=(0, 200), bins=50, color=\"blue\", edgecolor=\"black\")\n",
    "pyplot.xlabel(\"Pente (L.mol-1)\")\n",
    "pyplot.ylabel(\"effectif\")\n",
    "pyplot.title(\"Pour 100 000 iterations\")\n",
    "pyplot.show()\n",
    "print(\"Ordonnee à l origine :\", MoyOrdOr)\n",
    "print(\"u(Ordonnée à l origine)\", uOrdOr)\n",
    "pyplot.hist(LOrdOr, range=(0, 1), bins=50, color=\"blue\", edgecolor=\"black\")\n",
    "pyplot.xlabel(\"Ordonnee à l origine\")\n",
    "pyplot.ylabel(\"effectif\")\n",
    "pyplot.title(\"Pour 100 000 iterations\")\n",
    "pyplot.show()\n",
    "##########################################################################"
   ]
  },
  {
   "cell_type": "code",
   "execution_count": 4,
   "id": "a65f85c7-afab-4c0d-8496-92221709f854",
   "metadata": {},
   "outputs": [
    {
     "name": "stdout",
     "output_type": "stream",
     "text": [
      "Ordonnée pour le report : 0.665\n",
      "Abscisse moyenne du report : 0.00481035846712528\n",
      "Incertitude-type de l abscisse du report : 0.0004930896340484891\n"
     ]
    },
    {
     "data": {
      "image/png": "[encoded data removed]",
      "text/plain": [
       "<Figure size 432x288 with 1 Axes>"
      ]
     },
     "metadata": {
      "needs_background": "light"
     },
     "output_type": "display_data"
    }
   ],
   "source": [
    "# modifié de https://eduscol.education.fr/document/16051/download\n",
    "##MONTE CARLO POUR TROUVER L'INCERTITUDE SUR LA CONCENTRATION INCONNUE\n",
    "\n",
    "import numpy as np\n",
    "from matplotlib import pyplot\n",
    "\n",
    "# Procedure Regression Linéaire ; tableaux np X et Y\n",
    "\n",
    "\n",
    "def RegLin(X, Y):\n",
    "    N = len(X)\n",
    "    moyX = sum(X) / N\n",
    "    moyY = sum(Y) / N\n",
    "    pente = sum((X - moyX) * (Y - moyY)) / (sum((X - moyX) ** 2))\n",
    "    ordor = moyY - pente * moyX\n",
    "    return [pente, ordor]\n",
    "\n",
    "\n",
    "##########################################################################\n",
    "# Renvoie une valeur aléatoire de la variable L[0] d'incertitude-type L[1]\n",
    "def Alea(L):\n",
    "    tirage = np.random.normal()  # Tirage entre -infini et +infini (loi normale)\n",
    "    return L[0] + L[1] * tirage\n",
    "\n",
    "\n",
    "##########################################################################\n",
    "# Entrées (groupe 1)\n",
    "m = [10.0e-3, 1.0e-3]\n",
    "Vf1 = [1.0000, 0.0008]\n",
    "Dilutions = [9e-3, 8e-3, 5.00e-3, 3e-3, 2e-3, 1e-3, 0.8e-3, 0.5e-3, 0.3e-3]\n",
    "Fioles = [10.00e-3, 0.08e-3]\n",
    "DeltaBurette = 0.05e-3\n",
    "Absorbance = [1.25, 1.10, 0.69, 0.42, 0.27, 0.14, 0.11, 0.07, 0.04]\n",
    "ErelSpectro = 0.02\n",
    "Report = [0.665, 0.02 * 0.665]\n",
    "##########################################################################\n",
    "# Préparation des listes avec incertitudes\n",
    "Dilu = []\n",
    "for k in range(len(Dilutions)):\n",
    "    Dilu.append([Dilutions[k], DeltaBurette])\n",
    "A = []\n",
    "for k in range(len(Dilutions)):\n",
    "    A.append([Absorbance[k], Absorbance[k] * ErelSpectro])\n",
    "##########################################################################\n",
    "14  # Méthode de Monte Carlo pour trouver la pente, l'ordonnée à l'origine et\n",
    "# les incertitudes-type\n",
    "LPente, LOrdOr = [], []\n",
    "LPreviX = []\n",
    "Iteration = 100000\n",
    "\n",
    "for j in range(Iteration):\n",
    "    AleaCm = Alea(m) / Alea(Vf1)\n",
    "    AleaC = []\n",
    "    AleaA = []\n",
    "    for k in range(len(Dilutions)):\n",
    "        AleaC.append((AleaCm * Alea(Dilu[k])) / Alea(Fioles))\n",
    "        AleaA.append(Alea(A[k]))\n",
    "        AleaReport = Alea(Report)\n",
    "\n",
    "    Pente = RegLin(np.array(AleaC), np.array(AleaA))[0]\n",
    "    OrdOr = RegLin(np.array(AleaC), np.array(AleaA))[1]\n",
    "    LPente.append(Pente)\n",
    "    LOrdOr.append(OrdOr)\n",
    "    LPreviX.append((AleaReport - OrdOr) / Pente)\n",
    "\n",
    "MoyPreviX = sum(LPreviX) / Iteration\n",
    "uPreviX = (1 / (Iteration - 1) * sum((np.array(LPreviX) - MoyPreviX) ** 2.0)) ** 0.5\n",
    "\n",
    "print(\"Ordonnée pour le report :\", Report[0])\n",
    "print(\"Abscisse moyenne du report :\", MoyPreviX)\n",
    "print(\"Incertitude-type de l abscisse du report :\", uPreviX)\n",
    "pyplot.hist(LPreviX, range=(8.5e-6, 9e-3), bins=50, color=\"blue\", edgecolor=\"black\")\n",
    "pyplot.xlabel(\"Abscisse du report de point (mol.L-1)\")\n",
    "pyplot.ylabel(\"effectif\")\n",
    "pyplot.title(\"Pour 100 000 iterations\")\n",
    "pyplot.show()\n",
    "##########################################################################"
   ]
  },
  {
   "cell_type": "code",
   "execution_count": null,
   "id": "f8b1b120-61ab-4f21-bff7-672f7beb7295",
   "metadata": {},
   "outputs": [],
   "source": []
  }
 ],
 "metadata": {
  "kernelspec": {
   "display_name": "Python 3 (ipykernel)",
   "language": "python",
   "name": "python3"
  },
  "language_info": {
   "codemirror_mode": {
    "name": "ipython",
    "version": 3
   },
   "file_extension": ".py",
   "mimetype": "text/x-python",
   "name": "python",
   "nbconvert_exporter": "python",
   "pygments_lexer": "ipython3",
   "version": "3.10.12"
  }
 },
 "nbformat": 4,
 "nbformat_minor": 5
}
