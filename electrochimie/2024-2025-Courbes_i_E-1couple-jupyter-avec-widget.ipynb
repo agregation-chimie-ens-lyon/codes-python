{
  "nbformat": 4,
  "nbformat_minor": 0,
  "metadata": {
    "colab": {
      "provenance": []
    },
    "kernelspec": {
      "name": "python3",
      "display_name": "Python 3"
    },
    "language_info": {
      "name": "python"
    },
    "widgets": {
      "application/vnd.jupyter.widget-state+json": {
        "5137a088262444c1a6e37ab6f70e9bfb": {
          "model_module": "@jupyter-widgets/output",
          "model_name": "OutputModel",
          "model_module_version": "1.0.0",
          "state": {
            "_dom_classes": [],
            "_model_module": "@jupyter-widgets/output",
            "_model_module_version": "1.0.0",
            "_model_name": "OutputModel",
            "_view_count": null,
            "_view_module": "@jupyter-widgets/output",
            "_view_module_version": "1.0.0",
            "_view_name": "OutputView",
            "layout": "IPY_MODEL_8c7eab4837a74643aef1bda4d0572a57",
            "msg_id": "",
            "outputs": []
          }
        },
        "8c7eab4837a74643aef1bda4d0572a57": {
          "model_module": "@jupyter-widgets/base",
          "model_name": "LayoutModel",
          "model_module_version": "1.2.0",
          "state": {
            "_model_module": "@jupyter-widgets/base",
            "_model_module_version": "1.2.0",
            "_model_name": "LayoutModel",
            "_view_count": null,
            "_view_module": "@jupyter-widgets/base",
            "_view_module_version": "1.2.0",
            "_view_name": "LayoutView",
            "align_content": null,
            "align_items": null,
            "align_self": null,
            "border": null,
            "bottom": null,
            "display": null,
            "flex": null,
            "flex_flow": null,
            "grid_area": null,
            "grid_auto_columns": null,
            "grid_auto_flow": null,
            "grid_auto_rows": null,
            "grid_column": null,
            "grid_gap": null,
            "grid_row": null,
            "grid_template_areas": null,
            "grid_template_columns": null,
            "grid_template_rows": null,
            "height": null,
            "justify_content": null,
            "justify_items": null,
            "left": null,
            "margin": null,
            "max_height": null,
            "max_width": null,
            "min_height": null,
            "min_width": null,
            "object_fit": null,
            "object_position": null,
            "order": null,
            "overflow": null,
            "overflow_x": null,
            "overflow_y": null,
            "padding": null,
            "right": null,
            "top": null,
            "visibility": null,
            "width": null
          }
        },
        "5bbf3924fb3b4459a6584a6e125170e3": {
          "model_module": "@jupyter-widgets/controls",
          "model_name": "HTMLModel",
          "model_module_version": "1.5.0",
          "state": {
            "_dom_classes": [],
            "_model_module": "@jupyter-widgets/controls",
            "_model_module_version": "1.5.0",
            "_model_name": "HTMLModel",
            "_view_count": null,
            "_view_module": "@jupyter-widgets/controls",
            "_view_module_version": "1.5.0",
            "_view_name": "HTMLView",
            "description": "",
            "description_tooltip": null,
            "layout": "IPY_MODEL_9bee8ee8879c401da794e1611fdbedfd",
            "placeholder": "​",
            "style": "IPY_MODEL_bd406e6a5140479585f8b7726b4cb91f",
            "value": "Proportion relative en oxydant et en réducteur :"
          }
        },
        "9bee8ee8879c401da794e1611fdbedfd": {
          "model_module": "@jupyter-widgets/base",
          "model_name": "LayoutModel",
          "model_module_version": "1.2.0",
          "state": {
            "_model_module": "@jupyter-widgets/base",
            "_model_module_version": "1.2.0",
            "_model_name": "LayoutModel",
            "_view_count": null,
            "_view_module": "@jupyter-widgets/base",
            "_view_module_version": "1.2.0",
            "_view_name": "LayoutView",
            "align_content": null,
            "align_items": null,
            "align_self": null,
            "border": null,
            "bottom": null,
            "display": null,
            "flex": null,
            "flex_flow": null,
            "grid_area": null,
            "grid_auto_columns": null,
            "grid_auto_flow": null,
            "grid_auto_rows": null,
            "grid_column": null,
            "grid_gap": null,
            "grid_row": null,
            "grid_template_areas": null,
            "grid_template_columns": null,
            "grid_template_rows": null,
            "height": null,
            "justify_content": null,
            "justify_items": null,
            "left": null,
            "margin": null,
            "max_height": null,
            "max_width": null,
            "min_height": null,
            "min_width": null,
            "object_fit": null,
            "object_position": null,
            "order": null,
            "overflow": null,
            "overflow_x": null,
            "overflow_y": null,
            "padding": null,
            "right": null,
            "top": null,
            "visibility": null,
            "width": null
          }
        },
        "bd406e6a5140479585f8b7726b4cb91f": {
          "model_module": "@jupyter-widgets/controls",
          "model_name": "DescriptionStyleModel",
          "model_module_version": "1.5.0",
          "state": {
            "_model_module": "@jupyter-widgets/controls",
            "_model_module_version": "1.5.0",
            "_model_name": "DescriptionStyleModel",
            "_view_count": null,
            "_view_module": "@jupyter-widgets/base",
            "_view_module_version": "1.2.0",
            "_view_name": "StyleView",
            "description_width": ""
          }
        },
        "afa382fbf354421a81bbe988cde51f60": {
          "model_module": "@jupyter-widgets/controls",
          "model_name": "RadioButtonsModel",
          "model_module_version": "1.5.0",
          "state": {
            "_dom_classes": [],
            "_model_module": "@jupyter-widgets/controls",
            "_model_module_version": "1.5.0",
            "_model_name": "RadioButtonsModel",
            "_options_labels": [
              "même concentration",
              "2 fois plus Ox",
              "2 fois plus Red",
              "seulement Red",
              "seulement Ox"
            ],
            "_view_count": null,
            "_view_module": "@jupyter-widgets/controls",
            "_view_module_version": "1.5.0",
            "_view_name": "RadioButtonsView",
            "description": "",
            "description_tooltip": null,
            "disabled": false,
            "index": 2,
            "layout": "IPY_MODEL_785de4fec8d743229322273fb4d1f786",
            "style": "IPY_MODEL_f1cf4811e2f7434b941b0d814e7de9c6"
          }
        },
        "785de4fec8d743229322273fb4d1f786": {
          "model_module": "@jupyter-widgets/base",
          "model_name": "LayoutModel",
          "model_module_version": "1.2.0",
          "state": {
            "_model_module": "@jupyter-widgets/base",
            "_model_module_version": "1.2.0",
            "_model_name": "LayoutModel",
            "_view_count": null,
            "_view_module": "@jupyter-widgets/base",
            "_view_module_version": "1.2.0",
            "_view_name": "LayoutView",
            "align_content": null,
            "align_items": null,
            "align_self": null,
            "border": null,
            "bottom": null,
            "display": null,
            "flex": null,
            "flex_flow": null,
            "grid_area": null,
            "grid_auto_columns": null,
            "grid_auto_flow": null,
            "grid_auto_rows": null,
            "grid_column": null,
            "grid_gap": null,
            "grid_row": null,
            "grid_template_areas": null,
            "grid_template_columns": null,
            "grid_template_rows": null,
            "height": null,
            "justify_content": null,
            "justify_items": null,
            "left": null,
            "margin": null,
            "max_height": null,
            "max_width": null,
            "min_height": null,
            "min_width": null,
            "object_fit": null,
            "object_position": null,
            "order": null,
            "overflow": null,
            "overflow_x": null,
            "overflow_y": null,
            "padding": null,
            "right": null,
            "top": null,
            "visibility": null,
            "width": "100%"
          }
        },
        "f1cf4811e2f7434b941b0d814e7de9c6": {
          "model_module": "@jupyter-widgets/controls",
          "model_name": "DescriptionStyleModel",
          "model_module_version": "1.5.0",
          "state": {
            "_model_module": "@jupyter-widgets/controls",
            "_model_module_version": "1.5.0",
            "_model_name": "DescriptionStyleModel",
            "_view_count": null,
            "_view_module": "@jupyter-widgets/base",
            "_view_module_version": "1.2.0",
            "_view_name": "StyleView",
            "description_width": ""
          }
        },
        "bfd37705ef6648c59a907f2c4750a6d0": {
          "model_module": "@jupyter-widgets/controls",
          "model_name": "HTMLModel",
          "model_module_version": "1.5.0",
          "state": {
            "_dom_classes": [],
            "_model_module": "@jupyter-widgets/controls",
            "_model_module_version": "1.5.0",
            "_model_name": "HTMLModel",
            "_view_count": null,
            "_view_module": "@jupyter-widgets/controls",
            "_view_module_version": "1.5.0",
            "_view_name": "HTMLView",
            "description": "",
            "description_tooltip": null,
            "layout": "IPY_MODEL_fcb66ec9565f41a28765ef7ca57f1f7b",
            "placeholder": "​",
            "style": "IPY_MODEL_e08f488e06304c9ea16d78a3f41bdc6a",
            "value": "Nombre d électrons échangés :"
          }
        },
        "fcb66ec9565f41a28765ef7ca57f1f7b": {
          "model_module": "@jupyter-widgets/base",
          "model_name": "LayoutModel",
          "model_module_version": "1.2.0",
          "state": {
            "_model_module": "@jupyter-widgets/base",
            "_model_module_version": "1.2.0",
            "_model_name": "LayoutModel",
            "_view_count": null,
            "_view_module": "@jupyter-widgets/base",
            "_view_module_version": "1.2.0",
            "_view_name": "LayoutView",
            "align_content": null,
            "align_items": null,
            "align_self": null,
            "border": null,
            "bottom": null,
            "display": null,
            "flex": null,
            "flex_flow": null,
            "grid_area": null,
            "grid_auto_columns": null,
            "grid_auto_flow": null,
            "grid_auto_rows": null,
            "grid_column": null,
            "grid_gap": null,
            "grid_row": null,
            "grid_template_areas": null,
            "grid_template_columns": null,
            "grid_template_rows": null,
            "height": null,
            "justify_content": null,
            "justify_items": null,
            "left": null,
            "margin": null,
            "max_height": null,
            "max_width": null,
            "min_height": null,
            "min_width": null,
            "object_fit": null,
            "object_position": null,
            "order": null,
            "overflow": null,
            "overflow_x": null,
            "overflow_y": null,
            "padding": null,
            "right": null,
            "top": null,
            "visibility": null,
            "width": null
          }
        },
        "e08f488e06304c9ea16d78a3f41bdc6a": {
          "model_module": "@jupyter-widgets/controls",
          "model_name": "DescriptionStyleModel",
          "model_module_version": "1.5.0",
          "state": {
            "_model_module": "@jupyter-widgets/controls",
            "_model_module_version": "1.5.0",
            "_model_name": "DescriptionStyleModel",
            "_view_count": null,
            "_view_module": "@jupyter-widgets/base",
            "_view_module_version": "1.2.0",
            "_view_name": "StyleView",
            "description_width": ""
          }
        },
        "75c2bb40027f4195903290334e5e9b37": {
          "model_module": "@jupyter-widgets/controls",
          "model_name": "IntSliderModel",
          "model_module_version": "1.5.0",
          "state": {
            "_dom_classes": [],
            "_model_module": "@jupyter-widgets/controls",
            "_model_module_version": "1.5.0",
            "_model_name": "IntSliderModel",
            "_view_count": null,
            "_view_module": "@jupyter-widgets/controls",
            "_view_module_version": "1.5.0",
            "_view_name": "IntSliderView",
            "continuous_update": false,
            "description": "",
            "description_tooltip": null,
            "disabled": false,
            "layout": "IPY_MODEL_a9583deec9324af490e74745452c84f0",
            "max": 3,
            "min": 1,
            "orientation": "horizontal",
            "readout": true,
            "readout_format": "d",
            "step": 1,
            "style": "IPY_MODEL_752fd20f66b142d4993b89800dcd05f3",
            "value": 1
          }
        },
        "a9583deec9324af490e74745452c84f0": {
          "model_module": "@jupyter-widgets/base",
          "model_name": "LayoutModel",
          "model_module_version": "1.2.0",
          "state": {
            "_model_module": "@jupyter-widgets/base",
            "_model_module_version": "1.2.0",
            "_model_name": "LayoutModel",
            "_view_count": null,
            "_view_module": "@jupyter-widgets/base",
            "_view_module_version": "1.2.0",
            "_view_name": "LayoutView",
            "align_content": null,
            "align_items": null,
            "align_self": null,
            "border": null,
            "bottom": null,
            "display": null,
            "flex": null,
            "flex_flow": null,
            "grid_area": null,
            "grid_auto_columns": null,
            "grid_auto_flow": null,
            "grid_auto_rows": null,
            "grid_column": null,
            "grid_gap": null,
            "grid_row": null,
            "grid_template_areas": null,
            "grid_template_columns": null,
            "grid_template_rows": null,
            "height": null,
            "justify_content": null,
            "justify_items": null,
            "left": null,
            "margin": null,
            "max_height": null,
            "max_width": null,
            "min_height": null,
            "min_width": null,
            "object_fit": null,
            "object_position": null,
            "order": null,
            "overflow": null,
            "overflow_x": null,
            "overflow_y": null,
            "padding": null,
            "right": null,
            "top": null,
            "visibility": null,
            "width": null
          }
        },
        "752fd20f66b142d4993b89800dcd05f3": {
          "model_module": "@jupyter-widgets/controls",
          "model_name": "SliderStyleModel",
          "model_module_version": "1.5.0",
          "state": {
            "_model_module": "@jupyter-widgets/controls",
            "_model_module_version": "1.5.0",
            "_model_name": "SliderStyleModel",
            "_view_count": null,
            "_view_module": "@jupyter-widgets/base",
            "_view_module_version": "1.2.0",
            "_view_name": "StyleView",
            "description_width": "150px",
            "handle_color": null
          }
        },
        "d703f54d376743dcba7ae3e4aa2666f1": {
          "model_module": "@jupyter-widgets/controls",
          "model_name": "RadioButtonsModel",
          "model_module_version": "1.5.0",
          "state": {
            "_dom_classes": [],
            "_model_module": "@jupyter-widgets/controls",
            "_model_module_version": "1.5.0",
            "_model_name": "RadioButtonsModel",
            "_options_labels": [
              "Système rapide",
              "Système lent"
            ],
            "_view_count": null,
            "_view_module": "@jupyter-widgets/controls",
            "_view_module_version": "1.5.0",
            "_view_name": "RadioButtonsView",
            "description": "Vitesse transfert charge :",
            "description_tooltip": null,
            "disabled": false,
            "index": 1,
            "layout": "IPY_MODEL_ba3cdf06d1d64c2fb5f975976cc4e6cb",
            "style": "IPY_MODEL_96aa6f5ae6f9424d84a1a7f69b9ddb42"
          }
        },
        "ba3cdf06d1d64c2fb5f975976cc4e6cb": {
          "model_module": "@jupyter-widgets/base",
          "model_name": "LayoutModel",
          "model_module_version": "1.2.0",
          "state": {
            "_model_module": "@jupyter-widgets/base",
            "_model_module_version": "1.2.0",
            "_model_name": "LayoutModel",
            "_view_count": null,
            "_view_module": "@jupyter-widgets/base",
            "_view_module_version": "1.2.0",
            "_view_name": "LayoutView",
            "align_content": null,
            "align_items": null,
            "align_self": null,
            "border": null,
            "bottom": null,
            "display": null,
            "flex": null,
            "flex_flow": null,
            "grid_area": null,
            "grid_auto_columns": null,
            "grid_auto_flow": null,
            "grid_auto_rows": null,
            "grid_column": null,
            "grid_gap": null,
            "grid_row": null,
            "grid_template_areas": null,
            "grid_template_columns": null,
            "grid_template_rows": null,
            "height": null,
            "justify_content": null,
            "justify_items": null,
            "left": null,
            "margin": null,
            "max_height": null,
            "max_width": null,
            "min_height": null,
            "min_width": null,
            "object_fit": null,
            "object_position": null,
            "order": null,
            "overflow": null,
            "overflow_x": null,
            "overflow_y": null,
            "padding": null,
            "right": null,
            "top": null,
            "visibility": null,
            "width": null
          }
        },
        "96aa6f5ae6f9424d84a1a7f69b9ddb42": {
          "model_module": "@jupyter-widgets/controls",
          "model_name": "DescriptionStyleModel",
          "model_module_version": "1.5.0",
          "state": {
            "_model_module": "@jupyter-widgets/controls",
            "_model_module_version": "1.5.0",
            "_model_name": "DescriptionStyleModel",
            "_view_count": null,
            "_view_module": "@jupyter-widgets/base",
            "_view_module_version": "1.2.0",
            "_view_name": "StyleView",
            "description_width": "150px"
          }
        },
        "27179849a2eb4d0dac436ceba55cc799": {
          "model_module": "@jupyter-widgets/output",
          "model_name": "OutputModel",
          "model_module_version": "1.0.0",
          "state": {
            "_dom_classes": [],
            "_model_module": "@jupyter-widgets/output",
            "_model_module_version": "1.0.0",
            "_model_name": "OutputModel",
            "_view_count": null,
            "_view_module": "@jupyter-widgets/output",
            "_view_module_version": "1.0.0",
            "_view_name": "OutputView",
            "layout": "IPY_MODEL_8f37330053cd4d32aab56a84fa2fae91",
            "msg_id": "",
            "outputs": [
              {
                "output_type": "display_data",
                "data": {
                  "text/plain": "<Figure size 700x500 with 1 Axes>",
                  "image/png": "iVBORw0KGgoAAAANSUhEUgAAAmgAAAHYCAYAAAD5zRShAAAAOnRFWHRTb2Z0d2FyZQBNYXRwbG90bGliIHZlcnNpb24zLjEwLjAsIGh0dHBzOi8vbWF0cGxvdGxpYi5vcmcvlHJYcgAAAAlwSFlzAAAPYQAAD2EBqD+naQAAcRVJREFUeJzt3XdcE+cfB/BPGAlEliAqKoITtM46wda9f63aVm2rrTjr1rbuDlerttpa66irCrVqtXV2OGsddStuBVQEceAAZMkKyfP7IyUQCZhgFvB5v155mbs8d/fNN5fw9bm75yRCCAEiIiIisho2lg6AiIiIiLSxQCMiIiKyMizQiIiIiKwMCzQiIiIiK8MCjYiIiMjKsEAjIiIisjIs0IiIiIisDAs0IiIiIivDAo2IiIjIyrBAIyIiIrIyLNCIiIiIrAwLNCIjmzlzJiQSCeLi4ky6nZCQEEgkEkRHR5t0O886c+YMAgMDUaZMGUgkEly4cEHz2vz58+Hv7w+VSmXwelesWIGqVasiMzPTiNESFU85vyNUerFAo2ItMjISw4cPR/Xq1eHg4AAXFxe0atUK33//PdLT0y0dXomjUCjQp08fJCQk4LvvvsPPP/8MHx8fAEBycjK+/vprTJkyBTY26p+WnCKyoMfJkyc16x44cCCysrKwcuVKi7w3c7h69Sree+89VK5cGTKZDJUqVUL//v1x9epVS4dWoNTUVMyYMQNdu3aFu7s7JBIJQkJCLB2W2T27L9vZ2aFy5coYOHAg7t27Z+nwqASys3QAREX1119/oU+fPpDJZBgwYADq1auHrKwsHD16FJMmTcLVq1exatUqS4dpMu+//z7eeecdyGQys20zMjISt2/fxurVqzF06FCt19auXYvs7Gy8++67+ZabPXs2qlWrlm9+zZo1Nc8dHBwQFBSEhQsXYuzYsSWu92Dbtm1499134e7ujiFDhqBatWqIjo7GmjVrsGXLFmzatAlvvPGGpcPMJy4uDrNnz0bVqlXRsGFDHDp0yNIhWVTOvpyRkYGTJ08iJCQER48exZUrV+Dg4GDp8KgkEUTF0K1bt4STk5Pw9/cX9+/fz/f6jRs3xKJFi8waU2pqqhBCiBkzZggA4vHjx2bdvjkcPnxYABC//fZbvtcaNGgg3nvvPa15wcHBAoA4c+aMXus/e/asACAOHDhglHjNKefz1+XmzZtCLpcLf39/8ejRI63XHj9+LPz9/UWZMmVEZGSkyeJr06aNCAoKMni5jIwMERsbK4QQ4syZMwKACA4ONm5wz2jVqpUAoPPx6aefmnTbBSloX54yZYoAIDZv3mzU7eX8jlDpxUOcVCzNnz8fqampWLNmDby8vPK9XrNmTYwfP14zff78eXTr1g0uLi5wcnJChw4dtA6vAepDbL6+vvnWpetckJx5165dQ79+/VC2bFm88sorWm3i4uLQt29fuLi4wMPDA+PHj0dGRoZWm3v37mHw4MGoUKECZDIZXnrpJaxdu1avHJj7HLSBAweiTZs2AIA+ffpAIpGgbdu2AICoqChcunQJHTt2fKFtNGnSBO7u7ti5c2eh7XLyHx4e/twcA5b5/PNasGAB0tLSsGrVKnh6emq9Vq5cOaxcuRJPnz7F/PnzAQDp6enw9/eHv7+/1qH6hIQEeHl5ITAwEEqlstAcGYtMJkPFihVfeD2HDh1C9+7d4ebmBnd3d7z22muIjIzU2fbo0aMQQuh8fPnlly8cizG9+uqrAKDzvej7/T569CiaNWsGBwcH1KhRo0Qf5if98RAnFUt//PEHqlevjsDAwOe2vXr1Kl599VW4uLhg8uTJsLe3x8qVK9G2bVscPnwYLVq0KHIcffr0Qa1atTB37lwIIbRe69u3L3x9fTFv3jycPHkSixcvxpMnT7Bu3ToAwMOHD9GyZUtIJBKMGTMGnp6e2L17N4YMGYLk5GR8+OGHRY4rL4VCgaSkJL3auru7a84fe9bw4cNRuXJlzJ07F+PGjUOzZs1QoUIFAMDx48cBAC+//LLOZZOSkvJdNCGRSODh4ZGv7csvv4xjx47pFe/zcgxY7vPP648//oCvr6/mj/mzWrduDV9fX/z1118AAEdHR/z0009o1aoVPv30UyxcuBAAMHr0aCQlJSEkJAS2trZFjtvcQkJCMGTIEHTq1Alffvkl0tLSsGTJEnTs2BHXrl2Do6OjSbZrrH2/MDn/QSpbtqzWfH2/35cvX0bnzp3h6emJmTNnIjs7GzNmzNB8t6gUs1znHVHRJCUlCQCiZ8+eerXv1auXkEqlWoeP7t+/L5ydnUXr1q0184KCgoSPj0++5XUdasiZ9+677xbYvkePHlrzR40aJQCIixcvCiGEGDJkiPDy8hJxcXFa7d555x3h6uoq0tLSCn1fOYdcoqKiCm138ODBAg8XPfvQd13PHuL87LPPBACRkpKiM0ZdD5lMpnMbH3zwgXB0dCw0Dn1zLIT5P/9nJSYm6rW/9ujRQwAQycnJmnnTpk0TNjY24siRI+K3334TAIp86L6ohzjzKsohzsuXLwupVCq++OILrfkXL14UAMTWrVtfKKbCGHPfz9mX//77b/H48WNx584dsWXLFuHp6SlkMpm4c+eOVnt9v9+9evUSDg4O4vbt25o2165dE7a2tjzEWcqxB42KneTkZACAs7Pzc9sqlUrs27cPvXr1QvXq1TXzvby80K9fP6xevRrJyclwcXEpUiwjRowo8LXRo0drTY8dOxY//PADdu3ahfr162Pr1q3o27cvhBBavUtdunTBpk2bcO7cObRq1apIceXVsGFD7N+/X6+2RT2UFR8fDzs7Ozg5Oel8fdmyZahdu7bWvIJ6gMqWLYv09HSkpaVBLpcXut3CctygQQOLfv45UlJSADx/f815PTk5WfN85syZ+PPPPxEUFITU1FS0adMG48aNe+42dfUcKRQKZGZm5uvJLGrPkb5yLjAYPny41rYrVaoEe3t73Lp1y2TbNsW+/+xhfF9fX6xfvx5VqlTRzBNC6PX9btmyJfbu3YtevXqhatWqmjZ16tRBly5dsGvXLr1iopKJBRoVOzl/THP+8BXm8ePHSEtLg5+fX77X6tSpA5VKhTt37uCll14qUiy6rkzMUatWLa3pGjVqwMbGBtHR0Xj8+DESExOxatWqAq80ffToUZFielbZsmVf+NywF9W8eXM0bdpUr7biv0OF+lzFWViOAct+/jlyiq3n7a+6CjmpVIq1a9dqzk8KDg7WKy/Hjh1Du3bt8s0/fvw4Nm3apDUvKipK57l3xpCZmYm//voLaWlpKF++vM42+vxHq6hMse/n/GcjKSkJa9euxZEjR/JdSa3v9/vx48dIT0/Ptx8DgJ+fHwu0Uo4FGhU7Li4uqFSpEq5cuWLU9Rb0h6+wk7ENOXcm7/pzBnJ97733EBQUpLN9gwYN9F53YbKyspCQkKBXW09PzyKd2+Th4YHs7GykpKS88B/cJ0+eQC6XF+m8pBcZmsNUn7+rqyu8vLxw6dKlQttdunQJlStXztebt3fvXgBARkYGbty4oVdRqKvnaMKECahYsSImTZqkNd8YFwAU5NatW0hLS8MXX3yBli1bFhirqZhi38/7n41evXrhlVdeQb9+/RAREaHpQdb3+12UAZ2p9GCBRsXSa6+9hlWrVuHEiRMICAgosJ2npyfkcjkiIiLyvRYeHg4bGxt4e3sDUP9vOzExMV+727dvFynGZ/+Y3rx5EyqVCr6+vvD09ISzszOUSqXJe7eOHz+uszdFl6L2pvj7+2uWf9HCMioqCnXq1NGrbWE5Biz7+ef12muvYfXq1Th69KjOqz3//fdfREdHY/jw4VrzL126hNmzZ2PQoEG4cOEChg4disuXL8PV1bXQ7enqOSpbtiy8vLzM2pua0ytYp04di/Timnrft7W1xbx589CuXTssXboUU6dOBQC9v99KpRKOjo64ceNGvtd07bNUurBAo2Jp8uTJ2LBhA4YOHYp//vkn3xVPkZGR+PPPPzF+/Hh07twZO3fuRHR0tOYH+OHDh9i4cSNeeeUVTY9FjRo1kJSUhEuXLmmKjNjYWGzfvr1IMS5btgydO3fWTC9ZsgQA0K1bN9ja2uKtt97Cxo0bceXKFdSrV09r2cePH+cbjqGozHEOWk6RfPbs2Rcu0M6dO4f+/fvr1bawHAPqP6CW+vzzmjRpEtavX4/hw4fjyJEjWlevJiQkYMSIEZDL5Vq9WwqFAgMHDkSlSpXw/fffIyoqCs2aNcNHH32k91Aslubr6wuJRIKtW7firbfe0notp8f12asfjckc+37btm3RvHlzLFq0CB9++CEcHBz0/n7b2tqiS5cu2LFjB2JiYjTnoYWFhWl6Tqn0YoFGxVKNGjWwceNGvP3226hTp47WnQSOHz+O3377DQMHDgQAfPnll9i/fz9eeeUVjBo1CnZ2dli5ciUyMzM1404BwDvvvIMpU6bgjTfewLhx45CWlobly5ejdu3aOHfunMExRkVFoUePHujatStOnDiB9evXo1+/fppDOl999RUOHjyIFi1aYNiwYahbty4SEhJw7tw5/P3333ofmnkec5yDVr16ddSrVw9///03Bg8enO/13bt3Izw8PN/8wMBArZP3Q0NDkZCQgJ49e+q13eflGLDc559XrVq18NNPP6F///6oX79+vjsJxMXF4ZdffkGNGjW04r5w4QIOHDgAZ2dnNGjQANOnT8dnn32G3r17o3v37i8UkyGWLl2KxMRE3L9/H4B62JC7d+8CUF+YUVCPXvny5fHuu+9i48aNSE5ORrdu3aBUKnHz5k1s27YNmzZtKnT8uBdlrvMvJ02ahD59+iAkJERz4Yi+3+9Zs2Zhz549ePXVVzFq1ChkZ2djyZIleOmll557WJxKOMteREr0Yq5fvy6GDRsmfH19hVQqFc7OzqJVq1ZiyZIlIiMjQ9Pu3LlzokuXLsLJyUnI5XLRrl07cfz48Xzr27dvn6hXr56QSqXCz89PrF+/vtBhFnTdLSDntWvXronevXsLZ2dnUbZsWTFmzBiRnp6u1fbhw4di9OjRwtvbW9jb24uKFSuKDh06iFWrVj33ves7zIYxFTTMhhBCLFy4UDg5OWkND1LYMBvQMVzDlClTRNWqVYVKpSo0DkNyLIR5P//CXLp0Sbz77rvCy8tL83m/++674vLly1rtQkNDhZ2dnRg7dqzW/OzsbNGsWTNRqVIl8eTJE4O2/SLDbPj4+BR5eIqMjAwxd+5cUbduXeHo6Cg8PDxEs2bNxIwZM8TTp0+LFI8lFHZXDKVSKWrUqCFq1KghsrOzNfP1/X4fPnxYNGnSREilUlG9enWxYsUK3kmAhESIQkZXJCLSU1JSEqpXr4758+djyJAhBi+fmZkJX19fTJ06VesuELrMnDkTs2bNwuPHj1GuXLmihkxEZLV4qyciMgpXV1dMnjwZCxYsKNLVacHBwbC3t9drbDEiopKOPWhEVOywB42ISjr2oBERERFZGfagEREREVkZ9qARERERWRkWaERERERWplQNVKtSqXD//n04Ozu/0D37iIiIiJ5HCIGUlBRUqlQJNjaG9YmVqgLt/v37mvvuEREREZnDnTt3UKVKFYOWKVUFmrOzMwD17WHc3d0tHE3JpVAosG/fPnTu3Bn29vaWDqdEY67Ng3k2D+bZfJhr80hISEC1atU09YchSlWBlnNY09nZWXODZDI+hUIBuVwOFxcXfvFNjLk2D+bZPJhn82GuzUOhUABAkU6r4kUCRERERFaGBRoRERGRlWGBRkRERGRlStU5aETmpFQqNecfmIpCoYCdnR0yMjKgVCpNuq3SjHk2D+bZfJhr47G3t4etra3R18sCjcgEUlNTcffuXZj6TmpCCFSsWBF37tzh2H4mxDybB/NsPsy18UgkElSpUgVOTk5GXS8LNCIjUyqVuHv3LuRyOTw9PU3646dSqZCamgonJyeDB0Ek/THP5sE8mw9zbRxCCDx+/Bh3795FrVq1jNqTxgKNyMgUCgWEEPD09ISjo6NJt6VSqZCVlQUHBwf+yJoQ82wezLP5MNfG4+npiejoaCgUCqMWaPxUiEyEhw2IiEo+U/3Ws0AjIiIisjIs0IiISpiQkBDs3r3b0mEQ0QtggUZEZAYDBw5Er169TL6drVu3Yv78+WjZsqVByx06dAgSiQSJiYmmCczIZs6ciUaNGlk6jCIx175QkJCQEIvdj9rX1xeLFi0q8vLR0dGQSCS4cOGC0WKyVizQiEjjwYMHGDt2LKpXrw6ZTAZvb2+8/vrrOHDggKVD05u+f/zatm2LDz/80OD1F3U5c7h58yY+++wz7N69G2XLljVo2cDAQMTGxsLV1dVE0RnXxIkTDdovQ0JC4ObmZrqADPD9998jJCREM23KfUpXQfT2228jPDzcJNsj4+FVnEQEQP0/01atWsHNzQ0LFixA/fr1oVAosHfvXowePdqkP+hZWVmQSqUmW39JplAoNDe7rlmzJsLCwoq0HqlUiooVKxozNJNycnIy+rhT5mLpItjR0REymQzJyckWjYOeQ5QiSUlJAoCIi4uzdCglWlZWltixY4fIysqydCgWkZ6eLq5duybS09NNvi2lUimePHkilErlC6+rW7duonLlyiI1NTXfa0+ePNE8v337tujRo4coU6aMcHZ2Fn369BEPHjzQvB4UFCR69uyptfz48eNFmzZtNNNt2rQRo0ePFuPHjxceHh6ibdu2Qgghvv32W1GvXj0hl8tFlSpVxMiRI0VKSopmueDgYOHq6ir27Nkj/P39RZkyZUSXLl3E/fv3hRBCzJgxQwDQehw8eDDf+wkKCsrXLioqSgghxKFDh0SzZs2EVCoVFStWFFOmTBGZmZniyZMnYsCAATqXy87OFoMHDxa+vr7CwcFB1K5dWyxatCjfNp/Ni6GioqIEALFp0ybRunVrIZPJRHBwsBBCiNWrVwt/f38hk8mEn5+fWLZsmdayx44dEw0bNhQymUw0adJEbN++XQAQ58+fF0IIcfDgQQFA81nn5PqPP/4QtWvXFo6OjuKtt94ST58+FSEhIcLHx0e4ubmJsWPHiuzsbM12MjIyxIQJE0SlSpWEXC4XzZs31/kZ5AVArFixQnTv3l04OjoKf39/cfz4cXHjxg3Rpk0bIZfLRUBAgLh586ZmmRkzZoiGDRsKIdTfubp164phw4ZpXr9586ZwcnISa9as0by3vI8ZM2YUOV59/Pbbb6JevXrCwcFBuLu7iw4dOmi+W3n3hYL2xZz855XzmeV9jz169BDly5cXZcqUEU2bNhX79+/XvN6mTZt86xYi97PN+9vxww8/iOrVqwt7e3tRu3ZtsW7dOq1tAxCrV68WvXr1Eo6OjqJmzZpi586dhebg4cOH4rXXXhMODg7C19dXrF+/Xvj4+IjvvvtO0+bJkydiyJAholy5csLZ2Vm0a9dOXLhwocB15nwHfvnlFxEQECBkMpl46aWXxKFDhzRt9Pk+Hjx4UDRr1kzI5XLh6uoqAgMDRXR0tOb1HTt2iMaNGwuZTCaqVasmZs6cKRQKhc6YCvvNj4uLEwBEUlJSobnShQUaGR0LNN1f1tTUgh/Pfq8La5uWlttOqVSKu3efiORkZb52hoiPjxcSiUTMnTu30HZKpVI0atRIvPLKK+Ls2bPi5MmTokmTJlrFl74FmpOTk5g0aZIIDw8X4eHhQgghvvvuO/HPP/+IqKgoceDAAeHn5ydGjhypWS44OFjY29uLjh07ijNnzojQ0FBRp04d0a9fPyGEECkpKaJv376ia9euIjY2VsTGxorMzMx87yMxMVEEBASIYcOGadplZ2eLu3fvCrlcLkaNGiXCwsLE9u3bRbly5cT06dPFkydPREJCgs7lsrKyxPTp08WZM2fErVu3xPr164VcLhebN28uNC+Gyvnj5OvrK7Zu3Spu3bol7t+/L9avXy+8vLw087Zu3Src3d1FSEiIEEL92+fu7i7ee+89cfXqVbFr1y5Ru3bt5xZo9vb2olOnTuLcuXPi8OHDwsPDQ3Tu3Fn07dtXXL16Vfzxxx9CKpWKTZs2aWIcOnSoCAwMFEeOHBE3b94UCxYsEDKZTFy/fr3A9wVAVK5cWfzyyy/izJkzomfPnsLX11e0b99e7NmzR1y7dk20bNlSdO3aVbNM3gJNCCHOnz8vpFKp2LFjh8jOzhYtW7YUb7zxhhBCiMzMTLFo0SLh4uKi+dxyCv+ixPs89+/fF3Z2dmLhwoUiKipKXLp0SSxbtkyzzbz7QkH7oj4F2oULF8SKFSvE5cuXxfXr18Vnn30mHBwcxO3bt4UQ6u91lSpVxOzZszXrFiJ/gbZt2zZhb28vli1bJiIiIsS3334rbG1txT///KP1GVWpUkVs3LhR3LhxQ4wbN044OTmJ+Pj4AvPQrVs30bBhQ3HixAlx9uxZERgYKBwdHbUKtI4dO4rXX39dnDlzRly/fl1MmDBBeHh4FLjenO9AlSpVxJYtW8S1a9fE0KFDhbOzs+Zv+/O+jwqFQri6uoqJEyeKmzdvimvXromQkBBN3o4cOSJcXFxESEiIiIyMFPv27RO+vr5i5syZOmNigWYELNDMgwWa7i8rUPCje3ftdcjlBbfNU+cIpVIpPDyUOtsZ4tSpUwKA2LZtW6Ht9u3bJ2xtbUVMTIxm3tWrVwUAcfr0aSGE/gVa48aNnxvXb7/9Jjw8PDTTwcHBAoBWT8qyZctEhQoVNNP6FkJt2rQR48eP15r3ySefCD8/P6FSqbTWn/OHSKlU6lxOl9GjR4u33nrL4LgKk/PH6dnegBo1aoiNGzdqzfviiy9EQECAEEKI5cuXCw8PD619cvXq1c8t0J7N9fDhw4VcLtfq1ezSpYsYPny4EELdu2prayvu3bunFUuHDh3EtGnTCnxfAMRnn32m6RE+duyYACDWrFmjafPLL78IBwcHzfSzBZoQQsyfP1+UK1dOjBkzRnh5eWn91usqeIoa7/OEhoYKAFo9Mnk9uy/o2qf0KdB0eemll8SSJUs008/2WOVdd06BFhgYqNX7KIQQffr0Ed3z/DDlfEY5UlNTBQCxe/dunXFERERo/S4IIURYWJgAoInn33//FS4uLiIjI0Nr2Ro1aoiVK1fqXG/Od+Crr77SzFMoFKJKlSri66+/1rmMENrfx/j4eAFAq9ctrw4dOuT7z+rPP/8svLy8dLY3VYHGc9CISO97hoaFhcHb2xve3t6aeXXr1oWbmxvCwsLQrFkzvbfZpEmTfPP+/vtvzJs3D+Hh4UhOTkZ2djYyMjKQlpYGuVwOAJDL5ahRo4ZmGS8vLzx69Ejv7RYmLCwMAQEBWgNPtmrVCqmpqbh3716hJ5kvW7YMa9euRUxMDNLT05GVlWXQVYZ5z6d67733sGLFigLbNm3aVPP86dOniIyMxJAhQzBs2DDN/OzsbM25ThEREWjQoAEcHBw0rzdv3vy5MT2b6woVKsDX11cr1goVKmjyf/nyZSiVStSuXVtrPZmZmfDw8Ch0Ww0aNNBaJwDUr19fa15GRgaSk5Ph4uKicx0TJkzAjh07sHTpUuzevfu52yxKvCNGjMD69es106mpqfnaNGzYEB06dED9+vXRpUsXdO7cGb179zb4wo3nSU1NxcyZM/HXX38hNjYW2dnZSE9PR0xMjEHrCQsLwwcffKA1r1WrVvj++++15uX9jMqUKQMXF5cCv3thYWGws7PT+p77+/trfYcuXryI1NTUfLlOT09HZGRkoTEHBARontvZ2aFp06Za518W9n10d3fHwIED0aVLF3Tq1AkdO3ZE37594eXlpYnr2LFjmDNnjmZ9SqUy32+RqbFAIzITHb/jGs/eHaSweuPZu7JcvKj+g/Uit2upVasWJBKJUS4EsLGxyVfwKRSKfO3KlCmjNR0dHY3XXnsNI0eOxJw5c+Du7o6jR49iyJAhyMrK0vwo5pwQn0MikZj8pvTPs2nTJkycOBHffvstAgIC4OzsjAULFuDUqVN6ryPvsAEFFSA58uYup0BYvXo1WrRoodXuRW87oyvXuuapVCpNLLa2tggNDc237eed0J93vTkFsq55OdvS5dGjR7h+/TpsbW1x48YNdO3atdBtFiXe2bNnY+LEiYWu19bWFvv378fx48exb98+LFmyBJ9++ilOnTqFatWqFbpsDn2+RxMnTsT+/fvxzTffoGbNmnB0dETv3r2RlZWl1zYMVdhnXxSpqanw8vLCoUOH8r32Ilfc6vN9DA4Oxrhx47Bnzx5s3rwZn332Gfbv34+WLVsiNTUVs2bNwptvvplv3Xn/k2NqLNCIzOSZesSobcuUyV+4GcLd3R1dunTBsmXLMG7cuHzFU2JiItzc3FCnTh3cuXMHd+7c0fSiXbt2DYmJiahbty4A9X3prly5orX8hQsX8v24Pys0NBQqlQrffvutptj89ddfDX4vUqkUSqWySO3q1KmDrVu3QgihKQiOHTsGZ2dnVK5cucDljh07hsDAQIwaNUoz73k9AM+qWbOmQe1zVKhQAZUqVcKtW7fQv39/nW38/Pywfv16ZGZmQiaTAQDOnDlTpO0VpnHjxlAqlXj06BFeffVVo6//eQYPHoz69etrehM7duyIOnXqAND9uRUl3vLly6N8+fLPbSeRSNCqVSu0atUK06dPh4+PD7Zv346PP/44X1tdsXl6eiIlJQVPnz7VfB+fHfvr2LFjGDhwIN544w0A6oInOjr6uet+Vp06dXDs2DEEBQVprTvnO10U/v7+yM7ORmhoqKZnPSIiQmucvZdffhkPHjyAnZ0dfH19DVr/yZMn0bp1awDQbGfMmDGa2PX5PjZu3BiNGzfGtGnTEBAQgI0bN6Jly5Z4+eWXERERUeTvpLFwHDQiAqA+JKBUKtG8eXNs3boVN27cQFhYGBYvXqw5nNCxY0fUr18f/fv3x7lz53D69GkMGDAAbdq00Rx2a9++Pc6ePYt169bhxo0bmDFjRr6CTZeaNWtCoVBgyZIluHXrFn7++edCD/MVxNfXF5cuXUJERATi4uJ09t7ltDt16hSio6MRFxcHlUqFUaNG4c6dOxg7dizCw8Oxc+dOzJgxAx999JGmaNS1XK1atXD27Fns3bsX169fx+eff26SAqggs2bNwrx587B48WJcv34dly9fRnBwMBYuXAgA6NevH1QqFT744AOEhYVh7969+OabbwAY9z6CtWvXRv/+/TFgwABs27YNUVFROH36NObNm4e//vrLaNvRZdmyZThx4gR++ukn9O/fH7169UL//v01vUm+vr5ITU3FgQMHEBcXh7S0NJPFe+rUKcydOxdnz55FTEwMtm3bhsePH2uKxWfp2qdatGgBuVyOTz75BJGRkdi4caPW2GmAuud727ZtuHDhAi5evKj5nJ9d95EjR3Dv3j3ExcXp3P6kSZMQEhKC5cuX48aNG1i4cCG2bdv23J7Cwvj5+aFr164YPnw4Tp06hdDQUAwdOhSOjo6aNh07dkRAQAB69eqFffv2ITo6GsePH8enn36Ks2fPFrr+ZcuWYfv27QgPD8fo0aPx5MkTDB48WJOXwr6PUVFRmDZtGk6cOIHbt29j3759uHHjhubzmT59OtatW4dZs2bh6tWrCAsLw6ZNm/DZZ58VOR9FYvBZa8UYLxIwD14kUDyH2RBCffXZ6NGjhY+Pj5BKpaJy5cqiR48eWsMOPG+YDSGEmD59uqhQoYJwdXUVH330kRgzZky+iwR0nWi/cOFC4eXlJRwdHUWXLl3EunXrdA79kNezJ04/evRIdOrUSTg5ORU4zIYQ6pOYW7ZsKRwdHfUeZkOpVOpcLiMjQwwcOFC4uroKNzc3MXLkSDF16lStk9iNeZFAzon9eW3YsEE0atRISKVSUbZsWdG6dWutiz6OHTsmGjRoIKRSqWjSpInYuHGjAKC5gragYTby0nVi/rPvK+cKOl9fX2Fvby+8vLzEG2+8IS5dulTg+wIgtm/frtmfIyMj873PZ+PLG0tYWJhwdHTUulDiyZMnwtvbW0yePFkzb8SIEcLDw0NrmI2ixPs8165dE126dBGenp5CJpOJ2rVra524/2zOCtoXt2/fLmrWrCkcHR3Fa6+9JlatWqW1r0dFRYl27doJR0dH4e3tLZYuXZrvu3XixAnRoEEDIZPJXniYje3bt2vNc3V11QzzoktsbKz43//+J2QymahatapYt25dvosWkpOTxdixY0WlSpWEvb298Pb2Fv3799e6ECmvnO/Axo0bRfPmzYVUKhV169bVuuL0ed/HBw8eiF69egkvLy8hlUqFj4+PmD59utbv6J49ezRXnbq4uIjmzZuLVatW6YzJVBcJSISw8MkbZpScnAxXV1fExcU99+RRKjqFQoFdu3ahe/fuzz2sVRJlZGQgKioK1apVM/n5CiqVSnPS9Iucg0aFK4l53rBhAwYNGoSkpCStXg1LKol5tlbMtfEU9psfHx+PcuXKISkp6bnnlj6L56AREZUC69atQ/Xq1VG5cmVcvHgRU6ZMQd++fa2mOCMibSzQiIhKgQcPHmD69Ol48OABvLy80KdPH61hBIjIurBAIyIqBSZPnozJkydbOgwi0hMPPBMRERFZGRZoRERERFaGBRoRERGRlWGBRkRERGRlik2Btnz5cjRo0AAuLi5wcXFBQEAAdu/ebemwiIiIiIyu2BRoVapUwVdffYXQ0FCcPXsW7du3R8+ePXH16lVLh0ZERERkVMWmQHv99dfRvXt31KpVC7Vr18acOXPg5OSEkydPWjo0IiKrEhISwiMMRMVcsRwHTalU4rfffsPTp081N3HWJTMzE5mZmZrp5ORkAOpbERV0A2V6cTm5La05VigUEEJApVLlu3GxseXcqS1ne2QaxsjzoEGDkJiYiO3btxsztHy2bt2K+fPn499//zUo1kOHDqFDhw6Ij4+Hm5ub6QIshCF5njVrFnbu3Ilz586ZI7QSh78dxqNSqSCEgEKhgK2trdZrL/J3sFgVaJcvX0ZAQAAyMjLg5OSE7du3o27dugW2nzdvHmbNmpVv/sGDByGXy00ZKgHYv3+/pUOwCDs7O1SsWBGpqanIysoyyzZTUlKMsp6HDx/i22+/xb59+xAbG4ty5cqhfv36GDlyJNq0aWOUbZjaqFGjkJSUhA0bNhTa7rXXXkP9+vUxb948vdedkpJSpOUA9Q91dna25j+KpnDr1i189tln+O2332Bra2vQturVq4fw8HBIJBKTxqgPffbnYcOGISgoSO9YN27ciGnTpuH27dsvGl6JYqzfjtIsKysL6enpOHLkCLKzs7VeS0tLK/J6i1WB5ufnhwsXLiApKQlbtmxBUFAQDh8+XGCRNm3aNHz88cea6eTkZHh7e6Ndu3a8WboJKRQK7N+/H506dSq1N0u/c+cOnJycTH6zdCEEUlJS4OzsDIlE8kLrio6ORvv27eHm5oYFCxagfv36UCgU2LdvH6ZMmYJr164ZKer8srKyIJVKjbIue3t72NnZPffGxHZ2dpBKpXrdwDhvng1ZrihxGUqhUGi+Z40aNUJYWFiR11WuXDljhVUkhuzPhubRwcEBEonE6Pkvroz521HaZWRkwNHREa1bt9Z5s/QiE8VYhw4dxAcffKB3+6SkJAFAxMXFmTAqysrKEjt27BBZWVmWDsUi0tPTxbVr10R6eroQQgiVSojUVNM8kpOV4u7dJyI5WanzdZVK/7i7desmKleuLFJTU/O99uTJE83z27dvix49eogyZcoIZ2dn0adPH/HgwQPN60FBQaJnz55ay48fP160adNGM92mTRsxevRoMX78eOHh4SHatm0rhBDi22+/FfXq1RNyuVxUqVJFjBw5UqSkpGiWCw4OFq6urmLPnj3C399flClTRnTp0kXcv39fCCHEjBkzBACtx8GDB/O9n6CgoHztoqKihBBCHDp0SDRr1kxIpVJRsWJFMWXKFJGZmSmePHkiBgwYoHO57OxsMXjwYOHr6yscHBxE7dq1xaJFi/Jt89m8GCoqKkoAEJs2bRKtW7cWMplMBAcHCyGEWL16tfD39xcymUz4+fmJZcuWaS177Ngx0bBhQyGTyUSTJk3E9u3bBQBx/vx5IYQQBw8eFAA0n3VOrv/44w9Ru3Zt4ejoKN566y3x9OlTERISInx8fISbm5sYO3asyM7O1mwnIyNDTJgwQVSqVEnI5XLRvHlznZ9BXgDEihUrRPfu3YWjo6Pw9/cXx48fFzdu3BBt2rQRcrlcBAQEiJs3b2qWmTFjhmjYsKEQQv2dq1u3rhg2bJjm9Zs3bwonJyexZs0azXvL+5gxY0aR4y0JlEqlePLkiVAqlZYOpdh79jc/r7i4OAFAJCUlGbzeYl2gtWvXTgQFBendngWaebBA0/6ypqYKAVjmoaPW0ik+Pl5IJBIxd+7cQtsplUrRqFEj8corr4izZ8+KkydPiiZNmmgVX/oWaE5OTmLSpEkiPDxchIeHCyGE+O6778Q///wjoqKixIEDB4Sfn58YOXKkZrng4GBhb28vOnbsKM6cOSNCQ0NFnTp1RL9+/YQQQqSkpIi+ffuKrl27itjYWBEbGysyMzPzvY/ExEQREBAghg0bpmmXnZ0t7t69K+RyuRg1apQICwsT27dvF+XKlRPTp08XT548EQkJCTqXy8rKEtOnTxdnzpwRt27dEuvXrxdyuVxs3ry50LwYKqdA8/X1FVu3bhW3bt0S9+/fF+vXrxdeXl6aeVu3bhXu7u4iJCRECKH+7XN3dxfvvfeeuHr1qti1a5eoXbv2cws0e3t70alTJ3Hu3Dlx+PBh4eHhITp37iz69u0rrl69Kv744w8hlUrFpk2bNDEOHTpUBAYGiiNHjoibN2+KBQsWCJlMJq5fv17g+wIgKleuLH755Rdx5swZ0bNnT+Hr6yvat28v9uzZI65duyZatmwpunbtqlkmb4EmhBDnz58XUqlU7NixQ2RnZ4uWLVuKN954QwghRGZmpli0aJFwcXHRfG45hX9R4i0JWKAZT6kv0KZOnSoOHz4soqKixKVLl8TUqVOFRCIR+/bt03sdLNDMgwVa8SvQTp06JQCIbdu2Fdpu3759wtbWVsTExGjmXb16VQAQp0+fFkLoX6A1btz4uXH99ttvwsPDQzMdHBwsAGj1pCxbtkxUqFBBM61vIdSmTRsxfvx4rXmffPKJ8PPzE6o8XY/Lli0TTk5OIj4+XiiVSp3L6TJ69Gjx1ltvGRxXYXIKtGd752rUqCE2btyoNe+LL74QAQEBQgghli9fLjw8PLT+gKxevfq5BdqzuR4+fLiQy+VavZpdunQRw4cPF0Koe1dtbW3FvXv3tGLp0KGDmDZtWoHvC4D47LPPNEXDsWPHBACxZs0aTZtffvlFODg4aKafLdCEEGL+/PmiXLlyYsyYMcLLy0vrtz6nRzCvosZbErBAMx5TFWjF5hy0R48eYcCAAYiNjYWrqysaNGiAvXv3olOnTpYOjahQcjmQmmqadatUKiQnJ8PFxQU2NvlHzdH3Whjx3xVdzxMWFgZvb294e3tr5tWtWxdubm4ICwtDs2bN9NsggCZNmuSb9/fff2PevHkIDw9HcnIysrOzkZGRgbS0NM2FPXK5HDVq1NAs4+XlhUePHum93cKEhYUhICBA65ycVq1aITU1Fffu3Sv06sZly5Zh7dq1iImJQXp6OrKystCoUSO9t+3k5KR5/t5772HFihUFtm3atKnm+dOnTxEZGYkhQ4Zg2LBhmvnZ2dlwdXUFAERERKBBgwZa58c0b978uTE9m+sKFSrA19dXK9YKFSpo8n/58mUolUrUrl1baz2ZmZnPPe+3QYMGWusEgPr162vNy8jI0OzvukyYMAE7duzA0qVLsXv37udu80XiJTK1YlOgrVmzxtIhEBWJRAKUKWOadatUgFKpXr+O+kxvtWrVgkQiQXh4+AvHZGNjk6/g03WpeZlnkhIdHY3XXnsNI0eOxJw5c+Du7o6jR49iyJAhyMrK0hRoz154IpFI9C4wTWXTpk2YOHEivv32WwQEBMDZ2RkLFizAqVOn9F7HhQsXNM+fdyJ73tyl/lf9r169Gi1atNBq9+wl/4bSlWtd83KGaUhNTYWtrS1CQ0PzbTtvUfe8beUUyLrmFTYkxKNHj3D9+nXY2trixo0b6Nq1a6HbfJF4iUyt2BRoRGQ67u7u6NKlC5YtW4Zx48blK54SExPh5uaGOnXq4M6dO7hz546mF+3atWtITEzUXE3t6emJK1euaC1/4cKF517RGxoaCpVKhW+//VbTG/jrr78a/F6kUimUSmWR2tWpUwdbt26FEEJTEBw7dgzOzs6oXLlygcsdO3YMgYGBGDVqlGZeZGSkQXHXrFnToPY5KlSogEqVKuHWrVvo37+/zjZ+fn5Yv349MjMzIZPJAABnzpwp0vYK07hxYyiVSjx69Aivvvqq0df/PIMHD0b9+vU1vYkdO3ZEnTp1AOj+3CwdL1Fhis2dBIjItJYtWwalUonmzZtj69atuHHjBsLCwrB48WLNgNAdO3ZE/fr10b9/f5w7dw6nT5/GgAED0KZNG81ht/bt2+Ps2bNYt24dbty4gRkzZuQr2HSpWbMmFAoFlixZglu3buHnn38u9DBfQXx9fXHp0iVEREQgLi6uwIEifX19cerUKURHRyMuLg4qlQqjRo3CnTt3MHbsWISHh2Pnzp2YMWMGPvroI03RqGu5WrVq4ezZs9i7dy+uX7+Ozz//3CQFUEFmzZqFefPmYfHixbh+/TouX76M4OBgLFy4EADQr18/qFQqfPDBBwgLC8PevXvxzTffAIBRh1ioXbs2+vfvjwEDBmDbtm2IiorC6dOnMW/ePPz1119G244uy5Ytw4kTJ/DTTz+hf//+6NWrF/r3768Zi9DX1xepqak4cOAA4uLikJaWZtF4iZ6HBRoRAQCqV6+Oc+fOoV27dpgwYQLq1auHTp064cCBA1i+fDkA9R/znTt3omzZsmjdujU6duyI6tWrY/PmzZr1dOnSBZ9//jkmT56MZs2aISUlBQMGDHju9hs2bIiFCxfi66+/Rr169bBhwwaDB4MF1AOY+vn5oWnTpvD09MSxY8d0tps4cSJsbW1Rt25deHp6IiYmBpUrV8auXbtw+vRpNGzYECNGjMCQIUPw6aefFrrc8OHD8eabb+Ltt99GixYtEB8fr9WbZmpDhw7Fjz/+iODgYNSvXx9t2rRBSEgIqlWrBkB9yPSPP/7AhQsX0KhRI3z66aeYPn06ABh9rL7g4GAMGDAAEyZMgJ+fH3r16oUzZ86gatWqRt1OXuHh4Zg0aRJ++OEHTc/uDz/8gLi4OHz++ecAgMDAQIwYMQJvv/02PD09MX/+fIvFS6QPibD0yRtmlJycDFdXV8TFxfEEUBNSKBTYtWsXunfvXmoHqo2KikK1atVMPlDt8y4SIOMoiXnesGEDBg0ahKSkJDg6Olo6HAAlM8/Wirk2nsJ+8+Pj41GuXDkkJSUZPEgyz0EjIioF1q1bh+rVq6Ny5cq4ePEipkyZgr59+1pNcUZE2ligERGVAg8ePMD06dPx4MEDeHl5oU+fPpgzZ46lwyKiArBAIyIqBSZPnozJkydbOgwi0hMPPBMRERFZGRZoRCZSiq6/ISIqtUz1W88CjcjIckYkzxl/iYiISq6c3/oXvXPHs3gOGpGR2dnZQS6X4/Hjx7C3tzfpJewqlQpZWVnIyMjgpfImxDybB/NsPsy1cahUKjx+/BhyuRx2dsYtqVigERmZRCKBl5cXoqKicPv2bZNuSwiB9PR0ODo6GnVEeNLGPJsH82w+zLXx2NjYoGrVqkbPIws0IhOQSqWoVauWyQ9zKhQKHDlyBK1bty6VgwKbC/NsHsyz+TDXxiOVSk3SC8kCjchEbGxsTH4nAVtbW2RnZ8PBwYE/sibEPJsH82w+zLX144FnIiIiIivDAo2IiIjIyrBAIyIiIrIyLNCIiIiIrAwLNCIiIiIrwwKNiIiIyMqwQCMiIiKyMizQiIiIiKwMCzQiIiIiK8MCjYiIiMjKsEAjIiIisjIs0IiIiIisDAs0IiIiIivDAo2IiIjIyrBAIyIiIrIyLNCIiIiIrAwLNCIiIiIrwwKNiIiIyMqwQCMiIiKyMizQiIiIiKwMCzQiIiIiK8MCjYiIiMjKsEAjIiIisjIs0IiIiIisDAs0IiIiIivDAo2IiIjIyrBAIyIiIrIyxaZAmzdvHpo1awZnZ2eUL18evXr1QkREhKXDIiIiIjK6YlOgHT58GKNHj8bJkyexf/9+KBQKdO7cGU+fPrV0aERERERGZWfpAPS1Z88eremQkBCUL18eoaGhaN26tYWiIiIiIjK+YlOgPSspKQkA4O7uXmCbzMxMZGZmaqaTk5MBAAqFAgqFwrQBlmI5uWWOTY+5Ng/m2TyYZ/Nhrs3jRfIrEUIII8ZiFiqVCj169EBiYiKOHj1aYLuZM2di1qxZ+eZv3LgRcrnclCESERFRKZeWloZ+/fohKSkJLi4uBi1bLAu0kSNHYvfu3Th69CiqVKlSYDtdPWje3t6IjY2Fh4eHOUItlRQKBfbv349OnTrB3t7e0uGUaMy1eTDP5sE8mw9zbR7x8fHw8vIqUoFW7A5xjhkzBn/++SeOHDlSaHEGADKZDDKZLN98e3t77pBmwDybD3NtHsyzeTDP5sNcm9aL5LbYFGhCCIwdOxbbt2/HoUOHUK1aNUuHRERERGQSxaZAGz16NDZu3IidO3fC2dkZDx48AAC4urrC0dHRwtERERERGU+xGQdt+fLlSEpKQtu2beHl5aV5bN682dKhERERERlVselBK4bXMhAREREVSbHpQSMiIiIqLVigEREREVkZFmhEREREVoYFGhEREZGVYYFGREREZGVYoBERERFZGRZoRERERFaGBRoRERGRlWGBRkRERGRlWKARERERWRkWaERERERWhgUaERERkZVhgUZERERkZeyKspBCocCDBw+QlpYGT09PuLu7GzsuIiIiolJL7x60lJQULF++HG3atIGLiwt8fX1Rp04deHp6wsfHB8OGDcOZM2dMGSsRERFRqaBXgbZw4UL4+voiODgYHTt2xI4dO3DhwgVcv34dJ06cwIwZM5CdnY3OnTuja9euuHHjhqnjJiIiIiqx9DrEeebMGRw5cgQvvfSSztebN2+OwYMHY/ny5QgJCcG///6LWrVqGTVQIiIiotJCrwLtl19+0WtlDg4OGDFixAsFRERERFTaGeUqTiEEdu/ejd69extjdURERESl2gsVaFFRUfj8889RtWpVvPHGG8jIyDBWXERERESllsHDbGRmZmLLli1Ys2YNjh49CqVSiW+++QZDhgyBi4uLKWIkIiIiKlX07kELDQ3FqFGjULFiRSxatAi9evXCnTt3YGNjgy5durA4IyIiIjISvXvQWrRogbFjx+LkyZPw8/MzZUxEREREpZreBVqHDh2wZs0aPHr0CO+//z66dOkCiURiytiIiIiISiW9D3Hu3bsXV69ehZ+fH0aOHAkvLy+MHz8eAFioERERERmRQVdxent7Y/r06YiKisLPP/+Mx48fw87ODj179sQnn3yCc+fOmSpOIiIiolKjyMNsdOrUCRs3bsT9+/cxduxY7N69G82aNTNmbERERESl0gsPVFu2bFmMHTsW58+f583SiYiIiIxArwItJiZGr5W9/PLLAIB79+4VPSIiIiKiUk6vAq1Zs2YYPnx4oT1kSUlJWL16NerVq4etW7caLUAiIiKi0kavYTauXbuGOXPmoFOnTnBwcECTJk1QqVIlODg44MmTJ7h27RquXr2Kl19+GfPnz0f37t1NHTcRERFRiaVXD5qHhwcWLlyI2NhYLF26FLVq1UJcXBxu3LgBAOjfvz9CQ0Nx4sQJFmdEREREL8ige3E6Ojqid+/e6N27t6niISIiIir1XvgqTiIiIiIyLhZoRERERFaGBRoRERGRlWGBRkRERGRlWKARERERWRm9ruL8/fff0a1bN9jb2+P3338vtG2PHj2MEhgRERFRaaVXgdarVy88ePAA5cuXR69evQpsJ5FIoFQqjRUbERERUamkV4GmUql0PiciIiIi4ytW56AdOXIEr7/+OipVqgSJRIIdO3ZYOiQiIiIioytWBdrTp0/RsGFDLFu2zNKhEBEREZmMQbd6srRu3bqhW7dulg6DiIiIyKSKVYFmqMzMTGRmZmqmk5OTAQAKhQIKhcJSYZV4Oblljk2PuTYP5tk8mGfzYa7N40XyKxFCCCPGYjYSiQTbt28v9KrSmTNnYtasWfnmb9y4EXK53ITRERERUWmXlpaGfv36ISkpCS4uLgYta3CBZmtri9jYWJQvX15rfnx8PMqXL2+2YTb0KdB09aB5e3sjNjYWHh4eZoiydFIoFNi/fz86deoEe3t7S4dTojHX5sE8mwfzbD7MtXnEx8fDy8urSAWawYc4C6rnMjMzIZVKDV2dSclkMshksnzz7e3tuUOaAfNsPsy1eTDP5sE8mw9zbVovklu9C7TFixcDUPdc/fjjj3ByctK8plQqceTIEfj7+xc5ECIiIiJS07tA++677wCoe9BWrFgBW1tbzWtSqRS+vr5YsWKF8SPMIzU1FTdv3tRMR0VF4cKFC3B3d0fVqlVNum0iIiIic9G7QIuKigIAtGvXDtu2bUPZsmVNFlRBzp49i3bt2mmmP/74YwBAUFAQQkJCzB4PERERkSkYfA7awYMHTRGHXtq2bVvgOXBEREREJYXBBZpSqURISAgOHDiAR48e5bs35z///GO04IiIiIhKI4MLtPHjxyMkJAT/+9//UK9ePUgkElPERURERFRqGVygbdq0Cb/++iu6d+9uiniIiIiISj2Db5YulUpRs2ZNU8RCRERERChCgTZhwgR8//33PFmfiIiIyEQMPsR59OhRHDx4ELt378ZLL72Ub5Tcbdu2GS04IiIiotLI4ALNzc0Nb7zxhiliISIiIiIUoUALDg42RRxERERE9B+Dz0EjIiIiItMyuAcNALZs2YJff/0VMTExyMrK0nrt3LlzRgmMiIiIqLQyuAdt8eLFGDRoECpUqIDz58+jefPm8PDwwK1bt9CtWzdTxEhERERUqhhcoP3www9YtWoVlixZAqlUismTJ2P//v0YN24ckpKSTBEjERERUalicIEWExODwMBAAICjoyNSUlIAAO+//z5++eUX40ZHREREVAoZXKBVrFgRCQkJAICqVavi5MmTAICoqCgOXktERERkBAZfJNC+fXv8/vvvaNy4MQYNGoSPPvoIW7ZswdmzZ/Hmm2+aIkYiIiolVCogMhK4cwe4dQu4dw945RWgc2f16zExwNtvA1lZQGZm7r9KJSAEMHgw8MUX6rYPHwL16qnn63q89x6wbJm6bUoKUKVKwXG9+SaQM8qUSgWULVtw265dgc2bc6fLl1fHqEvr1sDOnUB0NHDtGhAUBKSm5sYI5D53dFTHqFSqY7hzB8jO1l5fzjK2toCLS+785GT1crnsAPTQtHV2zn0lJeXZtrlsbNRtc7aTlpY/hhwSifZ6C2sLaMebng4oFMZp6+ysjgUAMjLU+4w+bTMzC/7cAMDJSZ2PwtsW6VrMoi25atUqqFQqAMDo0aPh4eGB48ePo0ePHhg+fHiRAyEiotIpLg5Yuxb4+29bHDvWHWlp2neomTQpt0BTKoH/DtzolJiY+1ylUq+7IOnp2tPJycZpm5aWv21Bf+iPHlUXBc8uo8vTp0BExPPbAeo8PXlSWAuJVtu8eSuMSgXoe7q5EIXn6VmmavvfmVhGb5uaqk8ryfObFMCgAi07Oxtz587F4MGDUeW//2q88847eOedd4ocABERlW4pKcCUKYD6rBsbyGQCNWpIUL064O0N/HfaMwCgQgVgxw5AJgOk0tx/bW3VPR+enrltPT2BK1fU83U98vbClCkDXL9ecIxOTrnPJZLC25Ypoz195Yq6WFGpgH37gDVrgIsX1a/lFEYyGeDvr+5t8/AAypUD3NwAuRxwcFD3nrm4qHvQbG3VjwcP1Mva2KinbWzUD4kEsLcHKlXKjeHePe3eK6VSgdOnz6B582aQyey1eg9jYwvukbKxUX8mOXmIjS28R8rHJ/f5w4fqHix92j56lL8ozsvbO7f3Ki5OXbwWJCdnABAfX3hhVamSOncAkJBQeMHm5aXe9wB1MayraExMVKB374LXURiDCjQ7OzvMnz8fAwYMKNrWiIio1IuIAE6cAAYOVE9XqwaMHAnUrq2EEP9i+PBWkMvtdS4rlwM9e+q3HTs74KWX9GtrYwPUqqVfW4lE/7YAULMmcOkSMGQIcPasep6trfpQaPfuQNu2QO3a6nhNxc9Pe1qhALKyHqNjx9yCJEft2vqvt2bNktvWGOLji76swbtDhw4dcPjwYfj6+hZ9q0REVCpt2AAMG6buzWnRAqhTRz3/hx8AhUKFXbuS8hUMxZkQwJIlwMSJ6qLIyQn46CNg9Gh1byBRQQwu0Lp164apU6fi8uXLaNKkCco805fbo0cPowVHREQlgxDA7NnAzJnq6Y4d1b1hJZlSqS7GlixRT/fsCaxcycKM9GNwgTZq1CgAwMKFC/O9JpFIoCzo0g8iIiq1pk8HvvxS/fyTT9TFWs55QSWREOpespUr1dMLFgATJuReIUj0PAYXaDlXcBIREelj5crc4uzbb4GPP7ZsPOYwfbr6fUsk6sO6775r6YiouDF4oFoiIiJ9nTsHjBmjfj57dukozrZuzS1IV6xgcUZFY3AP2uzZswt9ffr06UUOhoiISpaGDYHx44H794HPPrN0NKZ34wYwaJD6+cSJwAcfWDYeKr4MLtC2b9+uNa1QKBAVFQU7OzvUqFGDBRoREWnY2gLffKM+Yb6kn3+VnQ3066ceO+vVV4G5cy0dERVnBhdo58+fzzcvOTkZAwcOxBtvvGGUoIiIqHi7e1c9kGfOhQAl+YKAHIsXq8c5c3MDfvkl//hiRIYwyjloLi4umDVrFj7//HNjrI6IiIqxrCz1IKwtWwI3b1o6GvO4dSv3EO433wCVK1s2Hir+jDZucVJSEpL0vUEXERGVWPPnA1evqm+1VNhNxUsKIYARI9S3JmrXTn3DdqIXZXCBtnjxYq1pIQRiY2Px888/o1u3bkYLjIiIip+ICOCLL9TPFy1S31eypPv5Z2D/fvU9M3OG1iB6UQYXaN99953WtI2NDTw9PREUFIRp06YZLTAiIipeVCpg+PDcQ5ylYXiJR4/UdwsAgBkzDLtHJ1FhDC7QoqKiTBEHEREVc8HBwOHD6ls4LV9eOnqSPvoISEhQDycyYYKlo6GS5IUuErh79y7u3r1rrFiIiKiYevBAPe4XoD7E6etr0XDM4q+/gI0bARsb4McfedUmGZfBBZpKpcLs2bPh6uoKHx8f+Pj4wM3NDV988QVvA0VEVEqlpgJ+fkCTJsC4cZaOxvSSk9UXBgDqXrSmTS0bD5U8Bh/i/PTTT7FmzRp89dVXaNWqFQDg6NGjmDlzJjIyMjBnzhyjB0lERNatZk3g2DEgLg6wM9r4ANZr6lT1WG81aqhvYUVkbAZ/jX766Sf8+OOP6NGjh2ZegwYNULlyZYwaNYoFGhFRKSJE7rlmtrZAhQqWjccc/vlHfY4dAKxerT7njsjYDD7EmZCQAH9//3zz/f39kZCQYJSgiIioeBg5Epg8WT0GWGnw+DHw3nvq5x98oB73jMgUDC7QGjZsiKVLl+abv3TpUjRs2NAoQRERkfXbu1c97teCBYCOuwCWOEolEBQExMYCdeoACxdaOiIqyQw+xDl//nz873//w99//42AgAAAwIkTJ3Dnzh3s2rXL6AESEZH1iY0FBgxQPx8zBggMtGw85jBxIrB7NyCTAZs3A2XKWDoiKskM7kFr06YNIiIi8MYbbyAxMRGJiYl48803ERERgVdffdUUMRIRkRVRKoH+/dWDtNavr761U0m3YIH6zggAEBKift9EplSka20qV67MiwGIiEqpiROBgwfVPUi//QY4Olo6ItMRQn2HgJzbV82bB7zzjmVjotLB4B604OBg/Pbbb/nm//bbb/jpp5+MEhQREVmnxYtze5LWrlWPfVZSJSQAb7yRW5zNmQNMmWLZmKj0MLhAmzdvHsqVK5dvfvny5TF37lyjBFWYZcuWwdfXFw4ODmjRogVOnz5t8m0SEZFarVrqnrOvvwb69rV0NKaRmQmsWAHUrg3s3AlIpcCqVcAnn5SO21eRdTD4EGdMTAyqVauWb76Pjw9iYmKMElRBNm/ejI8//hgrVqxAixYtsGjRInTp0gUREREoX768SbdNRERAt27AtWuAt7elIzEulQo4fRrYsUN9T9FHj9Tz69YFfv4ZePlli4ZHpZDBBVr58uVx6dIl+D5zo7WLFy/Cw8PDWHHptHDhQgwbNgyDBg0CAKxYsQJ//fUX1q5di6lTp5p020REpdXKlUCrVkC9eurpqlUtG4+hlErg6VP1IzVVfejy7l3g3j0gKgq4cEE9TEhSUu4ylSurD2eOGMF7bJJlGFygvfvuuxg3bhycnZ3RunVrAMDhw4cxfvx4vGPCMyezsrIQGhqKadOmaebZ2NigY8eOOHHihM5lMjMzkZmZqZlOTk4GACgUCigUCpPFWtrl5JY5Nj3m2jyel2eFArhxA7h7V4IHD4CHDyVISFAP3pqWJsHTp0BamrqdSqUuGPI+cucVfPxMiILjM9VrQgDx8er3Y2srUL26+m4BOcvltNG1Ll2vFbacep4tMjI6QyazBSAMXl7XaxkZQEaGfsclXVwEunQRePNNFXr0EJrCrCR+vfjbYR4vkl+DC7QvvvgC0dHR6NChA+z+u+GaSqXCgAEDTHoOWlxcHJRKJSo8cx+RChUqIDw8XOcy8+bNw6xZs/LNP3jwIOS8N4fJ7d+/39IhlBrMtXnk5DktzQ7nz5fHxYueCA93x717TlAqDT6lt1hRKiW4ccPUW5EAMN0loTY2AjJZNsqUUcDDIwMeHukoVy4dPj7JqFEjCVWqpMDOTl3dlZavFH87TCstLa3IyxpcoEmlUmzevBlffvklLly4AEdHR9SvXx8+Pj5FDsJUpk2bho8//lgznZycDG9vb7Rr187kh2NLM4VCgf3796NTp06w57EBk2KuzSMnz5UqdcbixTJs3SpBerp2r4yTk4CvL1CxokCFCoCHh0CZMur7NJYpAzg6Ckil6h4oGxv1v3kfNja5j+d53onq+pzIXlgbIYB16yTYtMkWABAUpET//kJrOYlE+7mh8/K/JpCdnY1Tp06hZcsWsLOzM8r6HRzU+XdyUg8wq37N/r+H8/PSVGLxt8M84uPji7xskcZBA4BatWqhVq1aRd6wocqVKwdbW1s8fPhQa/7Dhw9RsWJFncvIZDLIZLJ88+3t7blDmgHzbD7MtWnFxwPff98Yhw45QAj1X//atYHu3dX3YmzUCPD2lvz3x7/4X+b3ySfApk3q5998A0yYYGuW7SoUQFxcEpo1s+P+bCb87TCtF8ltsemTl0qlaNKkCQ4cOKCZp1KpcODAAc0tp4iIjO3vv4HGje1w8GBVCCFB797A8eNAeDjw3XdAjx7qk+ZLyvAL69apB2MFgCVLgAkTLBsPUWlV5B40S/j4448RFBSEpk2bonnz5li0aBGePn2quaqTiMiY1q4FPvhAff5VlSop2LTJEa1aFaufTYO9/jrw6qvq4TTGjLF0NESlV7H6pXn77bfx+PFjTJ8+HQ8ePECjRo2wZ8+efBcOEBG9qBUrgJEj1c/79VOhV69DaN68q2WDMoOyZdW9hjzqRWRZxeYQZ44xY8bg9u3byMzMxKlTp9CiRQtLh0REJcyvvwKjRqmfT5oEBAcrIZWqLBuUCaWkqO+pmUMqLTmHbImKK4N70I4cOVLo6zljoxERFUcXLgBBQeorGUeMUN/SKDvb0lGZ1ocfqg/nfvKJ+n6TRGR5Bhdobdu2zTdPkue/Wkql8oUCIiKylKQkoHdv9eCm3bsDS5eW/J6kQ4fUxRkAdC35R3CJig2DD3E+efJE6/Ho0SPs2bMHzZo1w759+0wRIxGRWYwaBURGAj4+6vsv2ppndAmLycwEhg9XPx8xQn1xABFZB4N70FxdXfPN69SpE6RSKT7++GOEhoYaJTAiInP66y9g40b1QLGbNwPu7paOyPTmzQOuXwcqVswdWoOIrIPRLhKoUKECIiIijLU6IiKzSUnJvWLz44+B0nDtUXh4blG2eDHg5mbRcIjoGQb3oF26dElrWgiB2NhYfPXVV2jUqJGx4iIiMptPPwXu3AGqVQN03L63xBFCfWgzKwv43//U590RkXUxuEBr1KgRJBIJhBBa81u2bIm1OWeaEhEVEydOqC8GAICVK9X3zizpJBJgyhQgLq50XAhBVBwZXKBFRUVpTdvY2MDT0xMODg5GC4qIyByysoBhw9Q9SkFBQKdOlo7IfLp3V98tgMUZkXUyuEDz8fExRRxERGb39dfA1auApyfw7beWjsY8kpKAnGu9WJwRWS+9CrTFixfrvcJx48YVORgiInO5dg348kv188WLAQ8Py8ZjDvv3A336APPnq+8xSkTWS68C7bvvvtOafvz4MdLS0uD232U/iYmJkMvlKF++PAs0IrJ6SiUwdGjuSfJvv23piEzv6VN1UZaUBFy5YuloiOh59BpmIyoqSvOYM2cOGjVqhLCwMCQkJCAhIQFhYWF4+eWX8cUXX5g6XiKiF/bDD+qLA5ydgeXLS8ehvs8/B6KjgapVgblzLR0NET2PweOgff7551iyZAn8/Pw08/z8/PDdd9/hs88+M2pwRETGdusWMG2a+vnXXwPe3paNxxxOnQK+/179fOVKwMnJsvEQ0fMZXKDFxsYiW8edg5VKJR4+fGiUoIiITCErC3jnHfXhvtatc29zVJIlJwP9+wMqFfDee7zfJlFxYXCB1qFDBwwfPhznzp3TzAsNDcXIkSPRsWNHowZHRGRMn3wCnDkDlC2rvtemjdHupWKdcgakzbm/6JIllo6IiPRl8M/T2rVrUbFiRTRt2hQymQwymQzNmzdHhQoV8OOPP5oiRiKiFxYcnDuUxtq16nOxSoO6dQE7O2DTJt7Oiag4MXgcNE9PT+zatQs3btxAWFgYAMDf3x+1a9c2enBERMawe3fusBLTpgG9elk0HLORSNQXB7z9NsCfaKLixeACLUetWrVQq1YtY8ZCRGR027apzzvLzgbefTd37LOS7Ndf1XdFKFtWPc3ijKj4KeFnYBBRaaVUAtOnq28ErlCoB2gNCSnZ551lZgJjx6p7zP73PyA93dIREVFRFbkHjYjIWh05Anz4IXD+vHp61Cj13QJsbS0alskIAezZA3z0ERARoZ7XoQPAWyQTFV8s0IioRHj8GPjjD2D1auDkSfU8V1f1oLT9+lk2NlN5/BjYskU9ttnFi+p55curL4jo3t2ysRHRi2GBRkTFhkIBPHkC3LsH3L0L3L6tLkxCQ4ELF9Q9SQAglQKDBgFffKG+EXpxplAA8fG577lWLfWVmYB6yJBRo9TP5XJg5Ej1RQE5N0MnouKrSAXav//+i5UrVyIyMhJbtmxB5cqV8fPPP6NatWp45ZVXjB2j0fn72+k8D6VKFcDLS/08LQ24ejV/m5w/AF5e6vYAkJEBXL5c8PbKl8+9pF+hUP8hKUi5coCvr3o7SmXBbYUA3N2BatVyp/MMTZePqytQo0bu9Pnz6oErdXF2Vv8RyHmvly6pY9FFLtc+AfnKFUChsINC0Q329tq7l4MD4O+fOx0Wpj5nJmc7eclkQJ06ue/t+vWCz6exs8v9gwUAN2+qByLVxdYWeOml3OmoKCAlRXcMEglQv37udHS0etDPgrz0Uu4tg+7eBRIT87fJ2U6dOrmH2+7fBxISCl5v7dqAvb36eWys+o91LjtkZ3eHnZ0617Vq5bZ99AiIiyt4vdWq5R4Ci4tTty+Ij4/6swbUsRY2JrW3d27bpCR1zAWpVEm9vwHqz+H+fe3XVSr1Q6lU51bHGNla5HL1ifGzZwODB6vnnT4NjB5d8DIffqgeyBVQ7+s5y+UlhC2Sktrg4UOJ5mrQGzfUFx8UZOBA9flgAHDnDtCzZ8Ft33kHmDxZ/fzuXSAgAEhNVe/HCoV22/HjgUWL1M/btwfatgVee00dd85FAURU/D23QDt16hRefvll2P/3q79161a8//776N+/P86fP4/MzEwAQFJSEubOnYtdu3aZNmIjiIvTfeO9wv5APevxY/WPub5tdRV7usTFAeHh+rWNj1f/kdC37a1b+rVNSFD3TOjb9u7dZ+dKAEh1ti/sj/WzDLkxxZEj+rf991/92x49qn/bEyf0b3v6tP5tQ0MLe1UCwF4zlXPOlT4K+0/Fs65d07+tvvsvoC6mDSWRqMfzevIk/2tpaepH3qImORk4e7bg9eXdz54+LSjfNgDcEBub+z+V9PTC/1PUuXPu88zMwj+bvP+vlUrzf6ckEvV/CitX1u4dc3AADh4seL1EVHzpVaBNnToVv//+O5ydnfHll19ixYoVGDBgADZt2qRp16pVK3xZTK5ff+cdpc6TZ3181D1dEon6f68F/aBKJOres5zeq/T0wv+IVqqU23uVmak+LFHQzZnLl8/tkVIqc8+l0cXTM7dHSqUCjh/PH2cOd3ftXqbjx9XL6IrDzQ2oVy93HSdPFtxz4ewMNGqUO33mDJCersTt29Hw8fGFbZ6zssuUARo3zm177lxur9izcTg4AE2a5E5fvFhwr5i9PdCiRe705cu6e7okEnWvVcuWufOuXlX38ugikQCBgbnT4eG6i4IcLVvm9orduKEuzAtab7NmuT1dkZHaRcKzuWjSRN2jCKh78fIWuSqVEpGRkahRowZsbGzRuDHg6KheR0yM+rBYQRo0yL0n47176vbPxpnjpZcAFxf189hYdQFf0D7s7587IOqjR+peyoL4+an3TUD9n5PISO3X7e3V+0LO/lCzpnqfi48v/DuXs/8C6v3zr78KbpvTU5sTu67/Y2ZnZ+PMmTPo27cpAPWH7OurHl+tINWr5z6vVEl9En9B8g6a6+6uLijLlFE/nJzU79mOJ6QQlSoSIXQd3NH27bffYsOGDTh37hzkcjmuXbsGX19fODs74+LFi6hevTpu3bqFunXrIiMjwxxxF0lycjJcXV0RFxcHDw8PS4dTYikUCuzatQvdu3fX9LySaTDX5sE8mwfzbD7MtXnEx8ejXLlySEpKgkvO/3L1pNf/ySZMmICAgAAAQMWKFXHz5k34+vpqtTl69Ciq5/0vIxEREREVid5DNgb+d6xn2LBhGD9+PE6dOgWJRIL79+9jw4YNmDhxIkaOHGmyQImIiIhKC4PPapg6dSpUKhU6dOiAtLQ0tG7dGjKZDBMnTsTYnEuWiIiIiKjIDC7QJBIJPv30U0yaNAk3b95Eamoq6tatC6ecs42JiIiI6IUYfFe6wYMHIyUlBVKpFHXr1kXz5s3h5OSEp0+fYrCuAYSIiIiIyCAGF2g//fQT0nWMGJqeno5169YZJSgiIiKi0kzvQ5zJyckQQkAIgZSUFDjkGUhMqVRi165dKF++vEmCJCIiIipN9C7Q3NzcIJFIIJFIUDvvvX3+I5FIMGvWLKMGR0RERFQa6V2gHTx4EEIItG/fHlu3boV7zvDfAKRSKXx8fFCpUiWTBElERERUmuhdoLVp0wYAEBUVhapVq0JS0H1eiIiIiOiF6FWgXbp0CfXq1YONjQ2SkpJwuZC7LDdo0MBowRERERGVRnoVaI0aNcKDBw9Qvnx5NGrUCBKJBLpu4SmRSKBUKo0eJBEREVFpoleBFhUVBU9PT81zIiIiIjIdvQo0Hx8fnc+JiIiIyPiKNFDtX3/9pZmePHky3NzcEBgYiNu3bxs1OCIiIqLSyOACbe7cuXB0dAQAnDhxAkuXLsX8+fNRrlw5fPTRR0YPMMecOXMQGBgIuVwONzc3k22HiIiIyNIMvln6nTt3ULNmTQDAjh070Lt3b3zwwQdo1aoV2rZta+z4NLKystCnTx8EBARgzZo1JtsOERERkaUZ3IPm5OSE+Ph4AMC+ffvQqVMnAICDg4POe3Qay6xZs/DRRx+hfv36JtsGERERkTUwuAetU6dOGDp0KBo3bozr16+je/fuAICrV6/C19fX2PG9kMzMTGRmZmqmk5OTAQAKhQIKhcJSYZV4Oblljk2PuTYP5tk8mGfzYa7N40Xya3CBtmzZMnz22We4c+cOtm7dCg8PDwBAaGgo3n333SIHYgrz5s3TeX/QgwcPQi6XWyCi0mX//v2WDqHUYK7Ng3k2D+bZfJhr00pLSyvyshKha8RZM5k6dSq+/vrrQtuEhYXB399fMx0SEoIPP/wQiYmJz12/rh40b29vxMbGagpLMj6FQoH9+/ejU6dOsLe3t3Q4JRpzbR7Ms3kwz+bDXJtHfHw8vLy8kJSUBBcXF4OWNbgHDQASExNx+vRpPHr0CCqVSjNfIpHg/fff13s9EyZMwMCBAwttU7169aKECACQyWSQyWT55tvb23OHNAPm2XyYa/Ngns2DeTYf5tq0XiS3Bhdof/zxB/r374/U1FS4uLho3TTd0ALN09NTc4cCIiIiIlIzuECbMGECBg8ejLlz55r1PK6YmBgkJCQgJiYGSqUSFy5cAADUrFkTTk5OZouDiIiIyNQMLtDu3buHcePGmf0k++nTp+Onn37STDdu3BiA+oR/U46/RkRERGRuBo+D1qVLF5w9e9YUsRQqJCQEQoh8DxZnREREVNIY3IP2v//9D5MmTcK1a9dQv379fCfA9ejRw2jBEREREZVGBhdow4YNAwDMnj0732sSiQRKpfLFoyIiIiIqxQwu0PIOq0FERERExmfwOWh5ZWRkGCsOIiIiIvqPwQWaUqnEF198gcqVK8PJyQm3bt0CAHz++edYs2aN0QMkIiIiKm0MLtDmzJmDkJAQzJ8/H1KpVDO/Xr16+PHHH40aHBEREVFpZHCBtm7dOqxatQr9+/eHra2tZn7Dhg0RHh5u1OCIiIiISiODC7R79+6hZs2a+earVCooFAqjBEVERERUmhlcoNWtWxf//vtvvvlbtmzRjO5PREREREVn8DAb06dPR1BQEO7duweVSoVt27YhIiIC69atw59//mmKGImIiIhKFYN70Hr27Ik//vgDf//9N8qUKYPp06cjLCwMf/zxBzp16mSKGImIiIhKFYN70ADg1Vdfxf79+40dCxERERGhCD1o1atXR3x8fL75iYmJqF69ulGCIiIiIirNDC7QoqOjdd5vMzMzE/fu3TNKUERERESlmd6HOH///XfN871798LV1VUzrVQqceDAAfj6+ho1OCIiIqLSSO8CrVevXgAAiUSCoKAgrdfs7e3h6+uLb7/91qjBEREREZVGehdoKpUKAFCtWjWcOXMG5cqVM1lQRERERKWZwVdxRkVFmSIOIiIiIvpPkYbZOHDgAA4cOIBHjx5petZyrF271iiBEREREZVWBhdos2bNwuzZs9G0aVN4eXlBIpGYIi4iIiKiUsvgAm3FihUICQnB+++/b4p4iIiIiEo9g8dBy8rKQmBgoCliISIiIiIUoUAbOnQoNm7caIpYiIiIiAhFOMSZkZGBVatW4e+//0aDBg1gb2+v9frChQuNFhwRERFRaWRwgXbp0iU0atQIAHDlyhWt13jBABEREdGLM7hAO3jwoCniICIiIqL/GHwOGhERERGZlt49aG+++aZe7bZt21bkYIiIiIjIgALN1dXVlHEQERER0X/0LtCCg4NNGQcRERER/YfnoBERERFZGRZoRERERFaGBRoRERGRlWGBRkRERGRlWKARERERWRkWaERERERWhgUaERERkZVhgUZERERkZVigEREREVkZFmhEREREVoYFGhEREZGVKRYFWnR0NIYMGYJq1arB0dERNWrUwIwZM5CVlWXp0IiIiIiMTu+bpVtSeHg4VCoVVq5ciZo1a+LKlSsYNmwYnj59im+++cbS4REREREZVbEo0Lp27YquXbtqpqtXr46IiAgsX76cBRoRERGVOMWiQNMlKSkJ7u7uhbbJzMxEZmamZjo5ORkAoFAooFAoTBpfaZaTW+bY9Jhr82CezYN5Nh/m2jxeJL8SIYQwYixmcfPmTTRp0gTffPMNhg0bVmC7mTNnYtasWfnmb9y4EXK53JQhEhERUSmXlpaGfv36ISkpCS4uLgYta9ECberUqfj6668LbRMWFgZ/f3/N9L1799CmTRu0bdsWP/74Y6HL6upB8/b2RmxsLDw8PF4seCqQQqHA/v370alTJ9jb21s6nBKNuTYP5tk8mGfzYa7NIz4+Hl5eXkUq0Cx6iHPChAkYOHBgoW2qV6+ueX7//n20a9cOgYGBWLVq1XPXL5PJIJPJ8s23t7fnDmkGzLP5MNfmwTybB/NsPsy1ab1Ibi1aoHl6esLT01Ovtvfu3UO7du3QpEkTBAcHw8amWIwQQkRERGSwYnGRwL1799C2bVv4+Pjgm2++wePHjzWvVaxY0YKRERERERlfsSjQ9u/fj5s3b+LmzZuoUqWK1mvF8BoHIiIiokIVi+OEAwcOhBBC54OIiIiopCkWBRoRERFRacICjYiIiMjKsEAjIiIisjIs0IiIiIisDAs0IiIiIivDAo2IiIjIyrBAIyIiIrIyLNCIiIiIrAwLNCIiIiIrwwKNiIiIyMqwQCMiIiKyMizQiIiIiKwMCzQiIiIiK8MCjYiIiMjKsEAjIiIisjIs0IiIiIisDAs0IiIiIivDAo2IiIjIyrBAIyIiIrIyLNCIiIiIrAwLNCIiIiIrwwKNiIiIyMqwQCMiIiKyMizQiIiIiKwMCzQiIiIiK8MCjYiIiMjKsEAjIiIisjIs0IiIiIisDAs0IiIiIivDAo2IiIjIyrBAIyIiIrIyLNCIiIiIrAwLNCIiIiIrwwKNiIiIyMqwQCMiIiKyMizQiIiIiKwMCzQiIiIiK8MCjYiIiMjKsEAjIiIisjIs0IiIiIisDAs0IiIiIitTbAq0Hj16oGrVqnBwcICXlxfef/993L9/39JhERERERldsSnQ2rVrh19//RURERHYunUrIiMj0bt3b0uHRURERGR0dpYOQF8fffSR5rmPjw+mTp2KXr16QaFQwN7e3oKRERERERlXsSnQ8kpISMCGDRsQGBhYaHGWmZmJzMxMzXRycjIAQKFQQKFQmDzO0iont8yx6THX5sE8mwfzbD7MtXm8SH4lQghhxFhMasqUKVi6dCnS0tLQsmVL/Pnnn/Dw8Ciw/cyZMzFr1qx88zdu3Ai5XG7KUImIiKiUS0tLQ79+/ZCUlAQXFxeDlrVogTZ16lR8/fXXhbYJCwuDv78/ACAuLg4JCQm4ffs2Zs2aBVdXV/z555+QSCQ6l9XVg+bt7Y3Y2NhCCzt6MQqFAvv370enTp14+NnEmGvzYJ7Ng3k2H+baPOLj4+Hl5VWkAs2ihzgnTJiAgQMHFtqmevXqmuflypVDuXLlULt2bdSpUwfe3t44efIkAgICdC4rk8kgk8nyzbe3t+cOaQbMs/kw1+bBPJsH82w+zLVpvUhuLVqgeXp6wtPTs0jLqlQqANDqISMiIiIqCYrFRQKnTp3CmTNn8Morr6Bs2bKIjIzE559/jho1ahTYe0ZERERUXBWLcdDkcjm2bduGDh06wM/PD0OGDEGDBg1w+PBhnYcwiYiIiIqzYtGDVr9+ffzzzz+WDoOIiIjILIpFDxoRERFRacICjYiIiMjKsEAjIiIisjIs0IiIiIisDAs0IiIiIivDAo2IiIjIyrBAIyIiIrIyLNCIiIiIrAwLNCIiIiIrwwKNiIiIyMqwQCMiIiKyMizQiIiIiKwMCzQiIiIiK8MCjYiIiMjKsEAjIiIisjIs0IiIiIisDAs0IiIiIivDAo2IiIjIyrBAIyIiIrIyLNCIiIiIrAwLNCIiIiIrwwKNiIiIyMqwQCMiIiKyMizQiIiIiKwMCzQiIiIiK8MCjYiIiMjKsEAjIiIisjIs0IiIiIisDAs0IiIiIitjZ+kAzEkIAQBISUmBvb29haMpuRQKBdLS0pCcnMw8mxhzbR7Ms3kwz+bDXJtHSkoKgNz6wxClqkCLj48HAFSrVs3CkRAREVFpER8fD1dXV4OWKVUFmru7OwAgJibG4ESR/pKTk+Ht7Y07d+7AxcXF0uGUaMy1eTDP5sE8mw9zbR5JSUmoWrWqpv4wRKkq0Gxs1Kfcubq6coc0AxcXF+bZTJhr82CezYN5Nh/m2jxy6g+DljFBHERERET0AligEREREVmZUlWgyWQyzJgxAzKZzNKhlGjMs/kw1+bBPJsH82w+zLV5vEieJaIo134SERERkcmUqh40IiIiouKABRoRERGRlWGBRkRERGRlWKARERERWZlSW6D16NEDVatWhYODA7y8vPD+++/j/v37lg6rRImOjsaQIUNQrVo1ODo6okaNGpgxYwaysrIsHVqJNGfOHAQGBkIul8PNzc3S4ZQoy5Ytg6+vLxwcHNCiRQucPn3a0iGVOEeOHMHrr7+OSpUqQSKRYMeOHZYOqcSZN28emjVrBmdnZ5QvXx69evVCRESEpcMqkZYvX44GDRpoBgIOCAjA7t27DVpHqS3Q2rVrh19//RURERHYunUrIiMj0bt3b0uHVaKEh4dDpVJh5cqVuHr1Kr777jusWLECn3zyiaVDK5GysrLQp08fjBw50tKhlCibN2/Gxx9/jBkzZuDcuXNo2LAhunTpgkePHlk6tBLl6dOnaNiwIZYtW2bpUEqsw4cPY/To0Th58iT2798PhUKBzp074+nTp5YOrcSpUqUKvvrqK4SGhuLs2bNo3749evbsiatXr+q9Dg6z8Z/ff/8dvXr1QmZmJuzt7S0dTom1YMECLF++HLdu3bJ0KCVWSEgIPvzwQyQmJlo6lBKhRYsWaNasGZYuXQoAUKlU8Pb2xtixYzF16lQLR1cySSQSbN++Hb169bJ0KCXa48ePUb58eRw+fBitW7e2dDglnru7OxYsWIAhQ4bo1b7U9qDllZCQgA0bNiAwMJDFmYklJSUV6aaxRJaQlZWF0NBQdOzYUTPPxsYGHTt2xIkTJywYGdGLS0pKAgD+JpuYUqnEpk2b8PTpUwQEBOi9XKku0KZMmYIyZcrAw8MDMTEx2Llzp6VDKtFu3ryJJUuWYPjw4ZYOhUgvcXFxUCqVqFChgtb8ChUq4MGDBxaKiujFqVQqfPjhh2jVqhXq1atn6XBKpMuXL8PJyQkymQwjRozA9u3bUbduXb2XL1EF2tSpUyGRSAp9hIeHa9pPmjQJ58+fx759+2Bra4sBAwaAR3yfz9A8A8C9e/fQtWtX9OnTB8OGDbNQ5MVPUXJNRPQ8o0ePxpUrV7Bp0yZLh1Ji+fn54cKFCzh16hRGjhyJoKAgXLt2Te/lS9Q5aI8fP0Z8fHyhbapXrw6pVJpv/t27d+Ht7Y3jx48b1AVZGhma5/v376Nt27Zo2bIlQkJCYGNTov5fYFJF2ad5DprxZGVlQS6XY8uWLVrnQwUFBSExMZG97ibCc9BMa8yYMdi5cyeOHDmCatWqWTqcUqNjx46oUaMGVq5cqVd7OxPHY1aenp7w9PQs0rIqlQoAkJmZacyQSiRD8nzv3j20a9cOTZo0QXBwMIszA73IPk0vTiqVokmTJjhw4ICmWFCpVDhw4ADGjBlj2eCIDCSEwNixY7F9+3YcOnSIxZmZqVQqg2qMElWg6evUqVM4c+YMXnnlFZQtWxaRkZH4/PPPUaNGDfaeGdG9e/fQtm1b+Pj44JtvvsHjx481r1WsWNGCkZVMMTExSEhIQExMDJRKJS5cuAAAqFmzJpycnCwbXDH28ccfIygoCE2bNkXz5s2xaNEiPH36FIMGDbJ0aCVKamoqbt68qZmOiorChQsX4O7ujqpVq1owspJj9OjR2LhxI3bu3AlnZ2fNeZSurq5wdHS0cHQly7Rp09CtWzdUrVoVKSkp2LhxIw4dOoS9e/fqvxJRCl26dEm0a9dOuLu7C5lMJnx9fcWIESPE3bt3LR1aiRIcHCwA6HyQ8QUFBenM9cGDBy0dWrG3ZMkSUbVqVSGVSkXz5s3FyZMnLR1SiXPw4EGd+29QUJClQysxCvo9Dg4OtnRoJc7gwYOFj4+PkEqlwtPTU3To0EHs27fPoHWUqHPQiIiIiEoCnhBEREREZGVYoBERERFZGRZoRERERFaGBRoRERGRlWGBRkRERGRlWKARERERWRkWaERERERWhgUaERERkZVhgUZEpEN0dDQkEonmlln6aNu2LT788EOTxPP+++9j7ty5Bi2zZ88eNGrUSHOvYSIqPligEZFZDBw4EBKJBBKJBFKpFDVr1sTs2bORnZ2t1/IhISFwc3MzWWw5N0PP4e3tjdjYWNSrV89o2wkJCdHkIO/DwcGh0OUuXryIXbt2Ydy4cQCA+vXrY8SIETrb/vzzz5DJZIiLi0PXrl1hb2+PDRs2GO09EJF5sEAjIrPp2rUrYmNjcePGDUyYMAEzZ87EggULLB2WTra2tqhYsSLs7OyMul4XFxfExsZqPW7fvl3oMkuWLEGfPn00N70fMmQINm3ahPT09Hxtg4OD0aNHD5QrVw6AuvhcvHixUd8DEZkeCzQiMhuZTIaKFSvCx8cHI0eORMeOHfH7778DAJ48eYIBAwagbNmykMvl6NatG27cuAEAOHToEAYNGoSkpCRNr9PMmTMBAJmZmZg4cSIqV66MMmXKoEWLFjh06JBmmzk9b3v37kWdOnXg5OSkKRQBYObMmfjpp5+wc+dOzboPHTqk8xDnlStX0K1bNzg5OaFChQp4//33ERcXZ1AOJBIJKlasqPWoUKFCge2VSiW2bNmC119/XTPvvffeQ3p6OrZu3arVNioqCocOHcKQIUM0815//XWcPXsWkZGRBsVJRJbFAo2ILMbR0RFZWVkA1D09Z8+exe+//44TJ05ACIHu3btDoVAgMDAQixYt0up9mjhxIgBgzJgxOHHiBDZt2oRLly6hT58+6Nq1q6a4A4C0tDR88803+Pnnn3HkyBHExMRolp84cSL69u2rKdpiY2MRGBiYL9bExES0b98ejRs3xtmzZ7Fnzx48fPgQffv2NWmOLl26hKSkJDRt2lQzr1y5cujZsyfWrl2r1TYkJARVqlRB586dNfOqVq2KChUq4N9//zVpnERkXMbtuyci0oMQAgcOHMDevXsxduxY3LhxA7///juOHTumKY42bNgAb29v7NixA3369IGrq6um9ylHTEwMgoODERMTg0qVKgFQF1x79uxBcHCw5qR6hUKBFStWoEaNGgDURd3s2bMBAE5OTnB0dERmZqbWup+1dOlSNG7cWOtE/bVr18Lb2xvXr19H7dq19XrvSUlJmkOVOV599VXs3r1bZ/vbt2/D1tYW5cuX15o/ZMgQdOvWDVFRUahWrRqEEPjpp58QFBQEGxvt/3tXqlTpuYdRici6sEAjIrP5888/4eTkBIVCAZVKhX79+mHmzJk4cOAA7Ozs0KJFC01bDw8P+Pn5ISwsrMD1Xb58GUqlMl9xlJmZCQ8PD820XC7XFGcA4OXlhUePHhkU+8WLF3Hw4MF8xRUAREZG6l2gOTs749y5c1rzHB0dC2yfnp4OmUwGiUSiNb9Tp06oUqUKgoODMXv2bBw4cAAxMTEYNGhQvnU4OjoiLS1Nr/iIyDqwQCMis2nXrh2WL18OqVSKSpUqvfAJ+KmpqbC1tUVoaChsbW21XstbSNnb22u9JpFIIIQweFuvv/46vv7663yveXl56b0eGxsb1KxZU+/25cqVQ1paGrKysiCVSrXWM3DgQPz000+YOXMmgoOD0a5dO1SvXj3fOhISEuDp6an3NonI8ligEZHZlClTRmdxUqdOHWRnZ+PUqVOaQ5zx8fGIiIhA3bp1AQBSqRRKpVJrucaNG0OpVOLRo0d49dVXixyXrnU/6+WXX8bWrVvh6+tr9Cs7C9OoUSMAwLVr1zTPcwwaNAhffvkltm3bhu3bt+PHH3/Mt3xGRgYiIyPRuHFjM0RLRMbCiwSIyOJq1aqFnj17YtiwYTh69CguXryI9957D5UrV0bPnj0BAL6+vkhNTcWBAwcQFxeHtLQ01K5dG/3798eAAQOwbds2REVF4fTp05g3bx7++usvvbfv6+uLS5cuISIiAnFxcVAoFPnajB49GgkJCXj33Xdx5swZREZGYu/evRg0aNBzi7u8hBB48OBBvkdBg8l6enri5ZdfxtGjR/O9Vq1aNbRv3x4ffPABZDIZ3nzzzXxtTp48CZlMhoCAAL1jJCLLY4FGRFYhODgYTZo0wWuvvYaAgAAIIbBr1y7N4cnAwECMGDECb7/9Njw9PTF//nzNcgMGDMCECRPg5+eHXr164cyZM6hatare2x42bBj8/PzQtGlTeHp64tixY/naVKpUCceOHYNSqUTnzp1Rv359fPjhh3Bzc8t3Un5hkpOT4eXlle9R2DlxQ4cOLXCw2SFDhuDJkyfo16+fzgFvf/nlF/Tv3x9yuVzvGInI8iTC0BMxiIjIrNLT0+Hn54fNmzcb1BMWFxcHPz8/nD17FtWqVTNhhERkbOxBIyKyco6Ojli3bp3Bg+JGR0fjhx9+YHFGVAyxB42IiIjIyrAHjYiIiMjKsEAjIiIisjIs0IiIiIisDAs0IiIiIivDAo2IiIjIyrBAIyIiIrIyLNCIiIiIrAwLNCIiIiIrwwKNiIiIyMr8H/pKuqmJ5jrZAAAAAElFTkSuQmCC\n"
                },
                "metadata": {}
              }
            ]
          }
        },
        "8f37330053cd4d32aab56a84fa2fae91": {
          "model_module": "@jupyter-widgets/base",
          "model_name": "LayoutModel",
          "model_module_version": "1.2.0",
          "state": {
            "_model_module": "@jupyter-widgets/base",
            "_model_module_version": "1.2.0",
            "_model_name": "LayoutModel",
            "_view_count": null,
            "_view_module": "@jupyter-widgets/base",
            "_view_module_version": "1.2.0",
            "_view_name": "LayoutView",
            "align_content": null,
            "align_items": null,
            "align_self": null,
            "border": null,
            "bottom": null,
            "display": null,
            "flex": null,
            "flex_flow": null,
            "grid_area": null,
            "grid_auto_columns": null,
            "grid_auto_flow": null,
            "grid_auto_rows": null,
            "grid_column": null,
            "grid_gap": null,
            "grid_row": null,
            "grid_template_areas": null,
            "grid_template_columns": null,
            "grid_template_rows": null,
            "height": null,
            "justify_content": null,
            "justify_items": null,
            "left": null,
            "margin": null,
            "max_height": null,
            "max_width": null,
            "min_height": null,
            "min_width": null,
            "object_fit": null,
            "object_position": null,
            "order": null,
            "overflow": null,
            "overflow_x": null,
            "overflow_y": null,
            "padding": null,
            "right": null,
            "top": null,
            "visibility": null,
            "width": null
          }
        },
        "118f1e0d47bc4f46b23c740a1ec01500": {
          "model_module": "@jupyter-widgets/controls",
          "model_name": "HTMLModel",
          "model_module_version": "1.5.0",
          "state": {
            "_dom_classes": [],
            "_model_module": "@jupyter-widgets/controls",
            "_model_module_version": "1.5.0",
            "_model_name": "HTMLModel",
            "_view_count": null,
            "_view_module": "@jupyter-widgets/controls",
            "_view_module_version": "1.5.0",
            "_view_name": "HTMLView",
            "description": "",
            "description_tooltip": null,
            "layout": "IPY_MODEL_ec44391910fc4bf0a3a70c043ac92934",
            "placeholder": "​",
            "style": "IPY_MODEL_cc003cf5c2914c55b3353e137d24653e",
            "value": "Proportion relative en oxydant et en réducteur :"
          }
        },
        "ec44391910fc4bf0a3a70c043ac92934": {
          "model_module": "@jupyter-widgets/base",
          "model_name": "LayoutModel",
          "model_module_version": "1.2.0",
          "state": {
            "_model_module": "@jupyter-widgets/base",
            "_model_module_version": "1.2.0",
            "_model_name": "LayoutModel",
            "_view_count": null,
            "_view_module": "@jupyter-widgets/base",
            "_view_module_version": "1.2.0",
            "_view_name": "LayoutView",
            "align_content": null,
            "align_items": null,
            "align_self": null,
            "border": null,
            "bottom": null,
            "display": null,
            "flex": null,
            "flex_flow": null,
            "grid_area": null,
            "grid_auto_columns": null,
            "grid_auto_flow": null,
            "grid_auto_rows": null,
            "grid_column": null,
            "grid_gap": null,
            "grid_row": null,
            "grid_template_areas": null,
            "grid_template_columns": null,
            "grid_template_rows": null,
            "height": null,
            "justify_content": null,
            "justify_items": null,
            "left": null,
            "margin": null,
            "max_height": null,
            "max_width": null,
            "min_height": null,
            "min_width": null,
            "object_fit": null,
            "object_position": null,
            "order": null,
            "overflow": null,
            "overflow_x": null,
            "overflow_y": null,
            "padding": null,
            "right": null,
            "top": null,
            "visibility": null,
            "width": null
          }
        },
        "cc003cf5c2914c55b3353e137d24653e": {
          "model_module": "@jupyter-widgets/controls",
          "model_name": "DescriptionStyleModel",
          "model_module_version": "1.5.0",
          "state": {
            "_model_module": "@jupyter-widgets/controls",
            "_model_module_version": "1.5.0",
            "_model_name": "DescriptionStyleModel",
            "_view_count": null,
            "_view_module": "@jupyter-widgets/base",
            "_view_module_version": "1.2.0",
            "_view_name": "StyleView",
            "description_width": ""
          }
        },
        "454ecf9352084dc2be41f2158f236922": {
          "model_module": "@jupyter-widgets/controls",
          "model_name": "RadioButtonsModel",
          "model_module_version": "1.5.0",
          "state": {
            "_dom_classes": [],
            "_model_module": "@jupyter-widgets/controls",
            "_model_module_version": "1.5.0",
            "_model_name": "RadioButtonsModel",
            "_options_labels": [
              "même concentration",
              "2 fois plus Ox",
              "2 fois plus Red",
              "seulement Red",
              "seulement Ox"
            ],
            "_view_count": null,
            "_view_module": "@jupyter-widgets/controls",
            "_view_module_version": "1.5.0",
            "_view_name": "RadioButtonsView",
            "description": "",
            "description_tooltip": null,
            "disabled": false,
            "index": 0,
            "layout": "IPY_MODEL_94632325cd3a4cde822b5d50da9aaa89",
            "style": "IPY_MODEL_6fa627e2d9f34493947c55a58dcfa0c4"
          }
        },
        "94632325cd3a4cde822b5d50da9aaa89": {
          "model_module": "@jupyter-widgets/base",
          "model_name": "LayoutModel",
          "model_module_version": "1.2.0",
          "state": {
            "_model_module": "@jupyter-widgets/base",
            "_model_module_version": "1.2.0",
            "_model_name": "LayoutModel",
            "_view_count": null,
            "_view_module": "@jupyter-widgets/base",
            "_view_module_version": "1.2.0",
            "_view_name": "LayoutView",
            "align_content": null,
            "align_items": null,
            "align_self": null,
            "border": null,
            "bottom": null,
            "display": null,
            "flex": null,
            "flex_flow": null,
            "grid_area": null,
            "grid_auto_columns": null,
            "grid_auto_flow": null,
            "grid_auto_rows": null,
            "grid_column": null,
            "grid_gap": null,
            "grid_row": null,
            "grid_template_areas": null,
            "grid_template_columns": null,
            "grid_template_rows": null,
            "height": null,
            "justify_content": null,
            "justify_items": null,
            "left": null,
            "margin": null,
            "max_height": null,
            "max_width": null,
            "min_height": null,
            "min_width": null,
            "object_fit": null,
            "object_position": null,
            "order": null,
            "overflow": null,
            "overflow_x": null,
            "overflow_y": null,
            "padding": null,
            "right": null,
            "top": null,
            "visibility": null,
            "width": "100%"
          }
        },
        "6fa627e2d9f34493947c55a58dcfa0c4": {
          "model_module": "@jupyter-widgets/controls",
          "model_name": "DescriptionStyleModel",
          "model_module_version": "1.5.0",
          "state": {
            "_model_module": "@jupyter-widgets/controls",
            "_model_module_version": "1.5.0",
            "_model_name": "DescriptionStyleModel",
            "_view_count": null,
            "_view_module": "@jupyter-widgets/base",
            "_view_module_version": "1.2.0",
            "_view_name": "StyleView",
            "description_width": ""
          }
        }
      }
    }
  },
  "cells": [
    {
      "cell_type": "markdown",
      "source": [
        "VERGNES Léa & SALLABERRY Deya\n",
        "\n",
        "M2 FEADep ENS de Lyon"
      ],
      "metadata": {
        "id": "yfkHan-g2dap"
      }
    },
    {
      "cell_type": "markdown",
      "source": [
        "# Introduction pédagogique\n",
        "\n",
        "**Niveau** : L3\n",
        "\n",
        "**Objectifs** (TP Python) :\n",
        "- Afficher courbe à partir formule donnée\n",
        "- Savoir créer des boutons pour améliorer la courbe\n",
        "\n",
        "**Objectifs** (Cours) :\n",
        "- Comprendre l'évolution des courbes i-E grâce à un programme python\n"
      ],
      "metadata": {
        "id": "gKg5TGHLWLPK"
      }
    },
    {
      "cell_type": "markdown",
      "source": [
        "# Étude du courant électrochimique en régime mixte\n",
        "\n",
        "On considère une réaction électrochimique de type :\n",
        "\n",
        "$$\n",
        "\\text{Ox} + n\\ e^- \\rightleftharpoons \\text{Red}\n",
        "$$\n",
        "\n",
        "Le courant mesuré à l’électrode dépend de plusieurs phénomènes :\n",
        "- Le transfert de charge à l’interface électrode-solution (contrôle cinétique),\n",
        "- Le transport de matière par diffusion dans la couche limite (contrôle diffusif).\n",
        "\n",
        "## 1. Régime électronique (transfert de charge)\n",
        "\n",
        "En régime purement cinétique, le courant est donné par l'expression de Butler-Volmer :\n",
        "\n",
        "$$\n",
        "i_{\\text{charge}} = n~F~A~k^0 \\left[ c_\\text{Ox} \\exp\\left( -\\alpha~n f (E - E^{\\huge \\circ}) \\right) - c_\\text{Red} \\exp\\left( (1 - \\alpha)~n f (E - E^{\\huge \\circ}) \\right) \\right]\n",
        "$$\n",
        "\n",
        "avec :\n",
        "\n",
        "$$\n",
        "f = \\frac{F}{RT}\n",
        "$$\n",
        "\n",
        "où :\n",
        "- $k^0$  est la constante de vitesse standard,\n",
        "- $\\alpha$ est le coefficient de transfert de charge,\n",
        "- $E^{\\huge \\circ}$ est le potentiel standard du couple redox.\n",
        "\n",
        "## 2. Régime diffusif (transport de matière)\n",
        "\n",
        "Lorsque la vitesse de réaction est très rapide, c’est le transport de matière qui devient limitant. Le courant est alors contrôlé par la diffusion :\n",
        "\n",
        "$$\n",
        "i_{\\text{diff}} = \\frac{i_{\\text{lim}}^\\text{Red} \\exp(nf(E - E^{\\huge \\circ}))~+~i_{\\text{lim}}^\\text{Ox}}{1 + \\exp(nf(E - E^{\\huge \\circ}))}\n",
        "$$\n",
        "\n",
        "avec :\n",
        "\n",
        "$$\n",
        "i_{\\text{lim}}^\\text{Red} = nFA \\frac{D_\\text{Red}}{\\delta} c_\\text{Red}~~~et~ \\quad\n",
        "i_{\\text{lim}}^\\text{Ox} = -nFA \\frac{D_\\text{Ox}}{\\delta} c_\\text{Ox}\n",
        "$$\n",
        "\n",
        "où  $\\delta$ est l'épaisseur de la couche limite de diffusion.\n",
        "\n",
        "## 3. Régime mixte\n",
        "\n",
        "Dans le cas général, les deux phénomènes sont simultanés. On peut approximer le courant total par la moyenne géométrique des contributions cinétique et diffusif :\n",
        "\n",
        "$$\n",
        "i = \\frac{i_{\\text{charge}} \\cdot i_{\\text{diff}}}{i_{\\text{charge}} + i_{\\text{diff}}}\n",
        "$$\n",
        "\n",
        "Ce modèle permet de rendre compte de la forme sigmoïdale des courbes intensité-potentiel, avec des plateaux correspondant aux courants limites et une zone centrale sensible à la vitesse de transfert électronique.\n",
        "\n",
        "\n"
      ],
      "metadata": {
        "id": "2_3MpOvI27Eg"
      }
    },
    {
      "cell_type": "code",
      "source": [
        "import numpy as np\n",
        "import matplotlib.pyplot as plt\n",
        "\n",
        "# Paramètres électrochimiques\n",
        "alpha = 0.5  # Coefficient de transfert de charge anodique\n",
        "F = 96500  # Constante de Faraday\n",
        "R = 8.314  # Constante des gaz parfaits\n",
        "T = 298  # Température en Kelvin\n",
        "f = F / (R * T)  # Simplification d'écriture\n",
        "Es = 0.7  # Potentiel standard du couple Ox/Red (V/ESH)\n",
        "A = 1e-4  # Aire électrode (m²)\n",
        "DO = 6e-6  # Coefficient de diffusion de l'oxydant (m²/s)\n",
        "DR = 6e-6  # Coefficient de diffusion du réducteur (m²/s)\n",
        "delta = 1e-6  # Épaisseur de la couche limite de diffusion (m)\n",
        "concentr = 0.01  # Concentration de base en mol/L\n",
        "cO, cR = concentr, concentr # Concentration en Oxydant et Réducteur en mol/L\n",
        "n = 1 # nombre électrons échangés\n",
        "\n",
        "# Discrétisation de E\n",
        "E = np.linspace(-3, 3, 10000)\n",
        "\n",
        "\n",
        "# Constantes de vitesse de transport de charge\n",
        "k0 = 5e-1\n",
        "\n",
        "# Constantes de vitesse de transport de matière\n",
        "mO, mR = DO / delta, DR / delta\n",
        "\n",
        "# Courants limites de diffusion\n",
        "ial, icl = n * F * A * mR * cR, -n * F * A * mO * cO\n",
        "\n",
        "# Régime transfert électronique (Butler-Volmer)\n",
        "# Attention aux expressions de Butler Volmer : si courant échange i0 alors E_nernst\n",
        "#                                              si constante vitesse k0 alors E_standart (Es)\n",
        "ia_charge = n * F * A * k0 * cR * np.exp(alpha * n * f * (E - Es))\n",
        "ic_charge = -n * F * A * k0 * cO * np.exp(-(1 - alpha) * n * f * (E - Es))\n",
        "i_charge = ia_charge + ic_charge\n",
        "\n",
        "# Régime diffusif\n",
        "i_diff = (ial * np.exp(n * f * (E - Es)) + icl) / (1 + np.exp(n * f * (E - Es)))\n",
        "\n",
        "# Régime mixte (moyenne géométrique) : courant total\n",
        "i_tot=(i_charge*i_diff)/(i_charge+i_diff)\n",
        "\n",
        "# Tracé\n",
        "plt.figure(figsize=(7, 5))\n",
        "plt.grid()\n",
        "plt.title(\"Courbe i = f(E) pour Ox + 1 $e^-$ = Red\")\n",
        "plt.xlabel(\"Potentiel E (V)\")\n",
        "plt.ylabel(\"Intensité du courant i (A)\")\n",
        "plt.xlim(E.min(), E.max())  # Échelle dynamique en x\n",
        "plt.ylim(-3.7, 3.7)\n",
        "plt.plot(E, i_tot, label=\"Courant total - régime mixte\", color=\"b\")\n",
        "plt.legend()\n",
        "plt.show()"
      ],
      "metadata": {
        "colab": {
          "base_uri": "https://localhost:8080/",
          "height": 489
        },
        "id": "XfStMZgp6e4v",
        "outputId": "34ffcf67-70af-4a44-a06b-28b2cbb2359e"
      },
      "execution_count": null,
      "outputs": [
        {
          "output_type": "display_data",
          "data": {
            "text/plain": [
              "<Figure size 700x500 with 1 Axes>"
            ],
            "image/png": "[encoded data removed]"
          },
          "metadata": {}
        }
      ]
    },
    {
      "cell_type": "markdown",
      "source": [
        "---\n",
        "---\n",
        "### Comment créer des boutons avec Widget ?\n",
        "\n",
        "⚠️ Penser à importer les librairies :"
      ],
      "metadata": {
        "id": "CmJynAtcLmFd"
      }
    },
    {
      "cell_type": "code",
      "source": [
        "import ipywidgets as widgets\n",
        "from IPython.display import display"
      ],
      "metadata": {
        "id": "q8GCqJxmLhnC"
      },
      "execution_count": null,
      "outputs": []
    },
    {
      "cell_type": "markdown",
      "source": [
        "\n",
        "#### 1. Paramètres du widget 'IntSlider' :\n",
        "\n",
        "Le widget `IntSlider` permet de sélectionner interactivement une **valeur entière** dans une plage définie.  \n",
        "Peut être un bon choix pour simuler le nombre d’électrons échangés (n)  :\n",
        "\n"
      ],
      "metadata": {
        "id": "KmzS-sZY7O_J"
      }
    },
    {
      "cell_type": "code",
      "source": [
        "label_electron = widgets.HTML('Nombre d électrons échangés :')\n",
        "bouton_electron = widgets.IntSlider(\n",
        "    value=1,\n",
        "    min=1,\n",
        "    max=3,\n",
        "    step=1,\n",
        "    disabled=False,\n",
        "    continuous_update=False,\n",
        "    orientation='horizontal',\n",
        "    readout=True,\n",
        "    readout_format='d',\n",
        "    style={'description_width': '150px'}\n",
        ")"
      ],
      "metadata": {
        "id": "XeC6E-axEE8A"
      },
      "execution_count": null,
      "outputs": []
    },
    {
      "cell_type": "markdown",
      "source": [
        "| Paramètre                         | Description                                                    |\n",
        "|----------------------------------|----------------------------------------------------------------|\n",
        "| `value=1`                        | Valeur initiale affichée (ici 1 électrons).                    |\n",
        "| `min=1`, `max=3`                 | Plage de sélection : de 1 à 3 électrons.                       |\n",
        "| `step=1`                         | Incrément : valeurs entières uniquement.                       |\n",
        "| `disabled=False`                 | Le curseur est actif (modifiable).                             |\n",
        "| `continuous_update=False`        | La fonction liée s’active seulement quand on relâche le curseur. |\n",
        "| `orientation='horizontal'`       | Affichage horizontal.                                          |\n",
        "| `readout=True`                   | Affiche la valeur à droite du curseur.                         |\n",
        "| `readout_format='d'`             | Affichage en entier (format \"decimal\").                        |\n",
        "| `style={'description_width': '150px'}` | Ajuste l'affichage de la description du bouton.                |\n"
      ],
      "metadata": {
        "id": "Toecvu7_Fsnp"
      }
    },
    {
      "cell_type": "markdown",
      "source": [
        "---\n",
        "#### 2. Paramètres du widget 'RadioButtons' :\n",
        "\n",
        "Le widget `RadioButtons` permet de proposer à l’utilisateur une **liste d’options exclusives** (sélection d’un seul choix à la fois).  \n",
        "Peut être un bon choix pour faire varier des conditions expérimentales comme ici, les proportions relatives entre l’oxydant et le réducteur :"
      ],
      "metadata": {
        "id": "7p2iZFjzEdr1"
      }
    },
    {
      "cell_type": "code",
      "source": [
        "label_concentration = widgets.HTML('Proportion relative en oxydant et en réducteur :')\n",
        "bouton_concentration = widgets.RadioButtons(\n",
        "    options=['même concentration', '2 fois plus Ox', '2 fois plus Red', 'seulement Red', 'seulement Ox'],\n",
        "    layout=widgets.Layout(width='100%')\n",
        ")"
      ],
      "metadata": {
        "id": "Ka2-o0UJFhHv"
      },
      "execution_count": null,
      "outputs": []
    },
    {
      "cell_type": "markdown",
      "source": [
        "| Paramètre                                     | Description                                                                 |\n",
        "|----------------------------------------------|-----------------------------------------------------------------------------|\n",
        "| `options=[...]`                              | Liste des choix proposés à l’utilisateur (un seul sélectionnable à la fois). |\n",
        "| `layout=widgets.Layout(width='100%')`        | Étend le widget sur toute la largeur disponible (meilleure lisibilité).     |         |      |\n",
        "| `widgets.HTML('...')`                        | Permet d’ajouter un label personnalisé au-dessus du bouton (permet l'alignement à gauche).         |\n"
      ],
      "metadata": {
        "id": "Z00eQYAoG8MF"
      }
    },
    {
      "cell_type": "markdown",
      "source": [
        "\n",
        "---\n",
        "#### 3. Mode interactif et affichage des boutons :\n",
        "\n",
        "Il est ensuite nécessaire de lier dynamiquement l’affichage de la courbe i-E aux choix de l’utilisateur faits avec les boutons avec une fonction qui met à jour les paramètres.\n",
        "\n",
        "Ensuite, les différents boutons sont affichés individuellement avec la fonction display.\n"
      ],
      "metadata": {
        "id": "yTxOM2b8HXyQ"
      }
    },
    {
      "cell_type": "code",
      "source": [
        "def fonction_mise_a_jour(proportion_relative, n, vitesse_transfert_charge):\n",
        "    if proportion_relative == 'même concentration':\n",
        "        cO, cR = concentr, concentr\n",
        "    elif proportion_relative == '2 fois plus Ox':\n",
        "        cO, cR = 2 * concentr, concentr\n",
        "    elif proportion_relative == '2 fois plus Red':\n",
        "        cO, cR = concentr, 2 * concentr\n",
        "    elif proportion_relative == 'seulement Red':\n",
        "        cO,cR = 0, concentr\n",
        "    elif proportion_relative == 'seulement Ox':\n",
        "        cO,cR = concentr, 0\n",
        "\n",
        "\n",
        "    # Constantes de vitesse de transport de charge\n",
        "    k0 = 5e-1 if vitesse_transfert_charge == \"Système rapide\" else 1e-6\n",
        "\n",
        "\n",
        "display(widgets.interactive_output(fonction_mise_a_jour, {'proportion_relative': bouton_concentration, 'n': bouton_electron, 'vitesse_transfert_charge': bouton_vitesse} ))\n",
        "display(label_concentration, bouton_concentration)\n",
        "display(label_electron, bouton_electron)\n",
        "display(bouton_vitesse)"
      ],
      "metadata": {
        "colab": {
          "base_uri": "https://localhost:8080/",
          "height": 293,
          "referenced_widgets": [
            "5137a088262444c1a6e37ab6f70e9bfb",
            "8c7eab4837a74643aef1bda4d0572a57",
            "5bbf3924fb3b4459a6584a6e125170e3",
            "9bee8ee8879c401da794e1611fdbedfd",
            "bd406e6a5140479585f8b7726b4cb91f",
            "afa382fbf354421a81bbe988cde51f60",
            "785de4fec8d743229322273fb4d1f786",
            "f1cf4811e2f7434b941b0d814e7de9c6",
            "bfd37705ef6648c59a907f2c4750a6d0",
            "fcb66ec9565f41a28765ef7ca57f1f7b",
            "e08f488e06304c9ea16d78a3f41bdc6a",
            "75c2bb40027f4195903290334e5e9b37",
            "a9583deec9324af490e74745452c84f0",
            "752fd20f66b142d4993b89800dcd05f3",
            "d703f54d376743dcba7ae3e4aa2666f1",
            "ba3cdf06d1d64c2fb5f975976cc4e6cb",
            "96aa6f5ae6f9424d84a1a7f69b9ddb42"
          ]
        },
        "id": "Y0yfP_0sIjQO",
        "outputId": "c414219d-7e94-47da-c928-47113009f2bb"
      },
      "execution_count": null,
      "outputs": [
        {
          "output_type": "display_data",
          "data": {
            "text/plain": [
              "Output()"
            ],
            "application/vnd.jupyter.widget-view+json": {
              "version_major": 2,
              "version_minor": 0,
              "model_id": "5137a088262444c1a6e37ab6f70e9bfb"
            }
          },
          "metadata": {}
        },
        {
          "output_type": "display_data",
          "data": {
            "text/plain": [
              "HTML(value='Proportion relative en oxydant et en réducteur :')"
            ],
            "application/vnd.jupyter.widget-view+json": {
              "version_major": 2,
              "version_minor": 0,
              "model_id": "5bbf3924fb3b4459a6584a6e125170e3"
            }
          },
          "metadata": {}
        },
        {
          "output_type": "display_data",
          "data": {
            "text/plain": [
              "RadioButtons(layout=Layout(width='100%'), options=('même concentration', '2 fois plus Ox', '2 fois plus Red', …"
            ],
            "application/vnd.jupyter.widget-view+json": {
              "version_major": 2,
              "version_minor": 0,
              "model_id": "afa382fbf354421a81bbe988cde51f60"
            }
          },
          "metadata": {}
        },
        {
          "output_type": "display_data",
          "data": {
            "text/plain": [
              "HTML(value='Nombre d électrons échangés :')"
            ],
            "application/vnd.jupyter.widget-view+json": {
              "version_major": 2,
              "version_minor": 0,
              "model_id": "bfd37705ef6648c59a907f2c4750a6d0"
            }
          },
          "metadata": {}
        },
        {
          "output_type": "display_data",
          "data": {
            "text/plain": [
              "IntSlider(value=1, continuous_update=False, max=3, min=1, style=SliderStyle(description_width='150px'))"
            ],
            "application/vnd.jupyter.widget-view+json": {
              "version_major": 2,
              "version_minor": 0,
              "model_id": "75c2bb40027f4195903290334e5e9b37"
            }
          },
          "metadata": {}
        },
        {
          "output_type": "display_data",
          "data": {
            "text/plain": [
              "RadioButtons(description='Vitesse transfert charge :', options=('Système rapide', 'Système lent'), style=Descr…"
            ],
            "application/vnd.jupyter.widget-view+json": {
              "version_major": 2,
              "version_minor": 0,
              "model_id": "d703f54d376743dcba7ae3e4aa2666f1"
            }
          },
          "metadata": {}
        }
      ]
    },
    {
      "cell_type": "markdown",
      "source": [
        "---\n",
        "---\n",
        "# Affichage des courbes i-E"
      ],
      "metadata": {
        "id": "kVTJb4ZbJgY_"
      }
    },
    {
      "cell_type": "code",
      "execution_count": null,
      "metadata": {
        "colab": {
          "base_uri": "https://localhost:8080/",
          "height": 765,
          "referenced_widgets": [
            "27179849a2eb4d0dac436ceba55cc799",
            "8f37330053cd4d32aab56a84fa2fae91",
            "118f1e0d47bc4f46b23c740a1ec01500",
            "ec44391910fc4bf0a3a70c043ac92934",
            "cc003cf5c2914c55b3353e137d24653e",
            "454ecf9352084dc2be41f2158f236922",
            "94632325cd3a4cde822b5d50da9aaa89",
            "6fa627e2d9f34493947c55a58dcfa0c4",
            "bfd37705ef6648c59a907f2c4750a6d0",
            "fcb66ec9565f41a28765ef7ca57f1f7b",
            "e08f488e06304c9ea16d78a3f41bdc6a",
            "75c2bb40027f4195903290334e5e9b37",
            "a9583deec9324af490e74745452c84f0",
            "752fd20f66b142d4993b89800dcd05f3",
            "d703f54d376743dcba7ae3e4aa2666f1",
            "ba3cdf06d1d64c2fb5f975976cc4e6cb",
            "96aa6f5ae6f9424d84a1a7f69b9ddb42"
          ]
        },
        "id": "KGZCsvpRMjIh",
        "outputId": "56c0ec41-52c6-4a37-ca1a-d3a246ef4e77"
      },
      "outputs": [
        {
          "output_type": "display_data",
          "data": {
            "text/plain": [
              "Output()"
            ],
            "application/vnd.jupyter.widget-view+json": {
              "version_major": 2,
              "version_minor": 0,
              "model_id": "27179849a2eb4d0dac436ceba55cc799"
            }
          },
          "metadata": {}
        },
        {
          "output_type": "display_data",
          "data": {
            "text/plain": [
              "HTML(value='Proportion relative en oxydant et en réducteur :')"
            ],
            "application/vnd.jupyter.widget-view+json": {
              "version_major": 2,
              "version_minor": 0,
              "model_id": "118f1e0d47bc4f46b23c740a1ec01500"
            }
          },
          "metadata": {}
        },
        {
          "output_type": "display_data",
          "data": {
            "text/plain": [
              "RadioButtons(layout=Layout(width='100%'), options=('même concentration', '2 fois plus Ox', '2 fois plus Red', …"
            ],
            "application/vnd.jupyter.widget-view+json": {
              "version_major": 2,
              "version_minor": 0,
              "model_id": "454ecf9352084dc2be41f2158f236922"
            }
          },
          "metadata": {}
        },
        {
          "output_type": "display_data",
          "data": {
            "text/plain": [
              "HTML(value='Nombre d électrons échangés :')"
            ],
            "application/vnd.jupyter.widget-view+json": {
              "version_major": 2,
              "version_minor": 0,
              "model_id": "bfd37705ef6648c59a907f2c4750a6d0"
            }
          },
          "metadata": {}
        },
        {
          "output_type": "display_data",
          "data": {
            "text/plain": [
              "IntSlider(value=1, continuous_update=False, max=3, min=1, style=SliderStyle(description_width='150px'))"
            ],
            "application/vnd.jupyter.widget-view+json": {
              "version_major": 2,
              "version_minor": 0,
              "model_id": "75c2bb40027f4195903290334e5e9b37"
            }
          },
          "metadata": {}
        },
        {
          "output_type": "display_data",
          "data": {
            "text/plain": [
              "RadioButtons(description='Vitesse transfert charge :', options=('Système rapide', 'Système lent'), style=Descr…"
            ],
            "application/vnd.jupyter.widget-view+json": {
              "version_major": 2,
              "version_minor": 0,
              "model_id": "d703f54d376743dcba7ae3e4aa2666f1"
            }
          },
          "metadata": {}
        }
      ],
      "source": [
        "import numpy as np\n",
        "import matplotlib.pyplot as plt\n",
        "import ipywidgets as widgets\n",
        "from IPython.display import display, HTML\n",
        "\n",
        "# Paramètres électrochimiques\n",
        "alpha = 0.5  # Coefficient de transfert de charge anodique\n",
        "F = 96500  # Constante de Faraday\n",
        "R = 8.314  # Constante des gaz parfaits\n",
        "T = 298  # Température en Kelvin\n",
        "f = F / (R * T)  # Simplification d'écriture\n",
        "Es = 0.7  # Potentiel standard du couple Ox/Red (V/ESH)\n",
        "A = 1e-4  # Aire électrode (m²)\n",
        "DO = 6e-6  # Coefficient de diffusion de l'oxydant (m²/s)\n",
        "DR = 6e-6  # Coefficient de diffusion du réducteur (m²/s)\n",
        "delta = 1e-6  # Épaisseur de la couche limite de diffusion (m)\n",
        "concentr = 0.01  # Concentration de base en mol/L\n",
        "cO_1, cR_1 = concentr, concentr # Astuce d'affichage pour comparer à la situation de base\n",
        "n_1 = 1 # même chose\n",
        "k0_1 = 5e-1 # même chose\n",
        "\n",
        "# Discrétisation de E\n",
        "E = np.linspace(-3, 3, 10000)\n",
        "\n",
        "def fonction_mise_a_jour(proportion_relative, n, vitesse_transfert_charge):\n",
        "    if proportion_relative == 'même concentration':\n",
        "        cO, cR = concentr, concentr\n",
        "    elif proportion_relative == '2 fois plus Ox':\n",
        "        cO, cR = 2 * concentr, concentr\n",
        "    elif proportion_relative == '2 fois plus Red':\n",
        "        cO, cR = concentr, 2 * concentr\n",
        "    elif proportion_relative == 'seulement Red':\n",
        "        cO,cR = 0, concentr\n",
        "    elif proportion_relative == 'seulement Ox':\n",
        "        cO,cR = concentr, 0\n",
        "\n",
        "\n",
        "    # Constantes de vitesse de transport de charge\n",
        "    k0 = 5e-1 if vitesse_transfert_charge == \"Système rapide\" else 1e-6\n",
        "\n",
        "    # Constantes de vitesse de transport de matière\n",
        "    mO, mR = DO / delta, DR / delta\n",
        "\n",
        "    # Courants limites de diffusion\n",
        "    ial_1, icl_1 = n_1 * F * A * mR * cR_1, -n_1 * F * A * mO * cO_1 # Astuce d'affichage pour comparer à la situation de base\n",
        "    ial, icl = n * F * A * mR * cR, -n * F * A * mO * cO\n",
        "\n",
        "    # Régime transfert électronique (Butler-Volmer)\n",
        "    # Attention aux expressions de Butler Volmer : si courant échange i0 alors E_nernst\n",
        "    #                                              si constante vitesse k0 alors E_standart (Es)\n",
        "    ia_charge_1 = n_1 * F * A * k0_1 *cR_1 * np.exp(alpha * n_1 * f * (E - Es)) # Astuce d'affichage pour comparer à la situation de base\n",
        "    ic_charge_1 = -n_1 * F * A * k0_1 *cO_1 * np.exp(-(1 - alpha) * n_1 * f * (E - Es)) # Même chose\n",
        "    i_charge_1 = ia_charge_1 + ic_charge_1 # Même chose\n",
        "\n",
        "    ia_charge = n * F * A * k0 *cR * np.exp(alpha * n * f * (E - Es))\n",
        "    ic_charge = -n * F * A * k0 *cO * np.exp(-(1 - alpha) * n * f * (E - Es))\n",
        "    i_charge = ia_charge + ic_charge\n",
        "\n",
        "    # Régime diffusif\n",
        "    i_diff_1 = (ial_1 * np.exp(n_1 * f * (E - Es)) + icl_1) / (1 + np.exp(n_1 * f * (E - Es))) # Astuce d'affichage pour comparer à la situation de base\n",
        "    i_diff = (ial * np.exp(n * f * (E - Es)) + icl) / (1 + np.exp(n * f * (E - Es)))\n",
        "\n",
        "    # Régime mixte (moyenne géométrique) : courant total\n",
        "    i_tot_1=(i_charge_1*i_diff_1)/(i_charge_1+i_diff_1) # Astuce d'affichage pour comparer à la situation de base\n",
        "    i_tot=(i_charge*i_diff)/(i_charge+i_diff)\n",
        "\n",
        "\n",
        "    # Tracé\n",
        "    plt.figure(figsize=(7, 5))\n",
        "    plt.grid()\n",
        "    plt.title(\"Courbe i = f(E) pour Ox + 1 $e^-$ = Red\")\n",
        "    plt.xlabel(\"Potentiel E (V)\")\n",
        "    plt.ylabel(\"Intensité du courant i (A)\")\n",
        "    plt.xlim(E.min(), E.max())  # Échelle dynamique en x\n",
        "    plt.ylim(-3.7, 3.7)\n",
        "    plt.plot(E, i_tot_1, label=\"Courant total - régime mixte - situation de base\", color=\"b\", linestyle='--')\n",
        "    plt.plot(E, i_tot, label=\"Courant total - régime mixte\", color=\"b\")\n",
        "    plt.legend()\n",
        "    plt.show()\n",
        "\n",
        "# Création des boutons de sélection\n",
        "label_concentration = widgets.HTML('Proportion relative en oxydant et en réducteur :')\n",
        "bouton_concentration = widgets.RadioButtons(\n",
        "    options=['même concentration', '2 fois plus Ox', '2 fois plus Red', 'seulement Red', 'seulement Ox'],\n",
        "    layout=widgets.Layout(width='100%')\n",
        ")\n",
        "\n",
        "label_electron = widgets.HTML('Nombre d électrons échangés :')\n",
        "bouton_electron = widgets.IntSlider(\n",
        "    value=1,\n",
        "    min=1,\n",
        "    max=3,\n",
        "    step=1,\n",
        "    disabled=False,\n",
        "    continuous_update=False,\n",
        "    orientation='horizontal',\n",
        "    readout=True,\n",
        "    readout_format='d',\n",
        "    style={'description_width': '150px'}\n",
        ")\n",
        "\n",
        "label_vitesse = widgets.HTML('Vitesse de transfert de charge:')\n",
        "bouton_vitesse = widgets.RadioButtons(\n",
        "    options=['Système rapide', 'Système lent'],\n",
        "    description='Vitesse transfert charge :',\n",
        "    style={'description_width': '150px'}\n",
        ")\n",
        "\n",
        "# Mode intéractif\n",
        "display(widgets.interactive_output(fonction_mise_a_jour, {'proportion_relative': bouton_concentration, 'n': bouton_electron, 'vitesse_transfert_charge': bouton_vitesse} ))\n",
        "display(label_concentration, bouton_concentration)\n",
        "display(label_electron, bouton_electron)\n",
        "display(bouton_vitesse)"
      ]
    },
    {
      "cell_type": "markdown",
      "source": [
        "## Sources :\n",
        "\n",
        "\n",
        "*   Cours sur les widgets de Jean Lamerenx dans le cadre des JIREC 2024\n",
        "*   Programme Python Manon Leconte\n",
        "\n"
      ],
      "metadata": {
        "id": "a9XW33IQKGm0"
      }
    }
  ]
}